{
 "cells": [
  {
   "cell_type": "markdown",
   "id": "74ed28df",
   "metadata": {},
   "source": [
    "# Step 0: Load libraries and dataset"
   ]
  },
  {
   "cell_type": "code",
   "execution_count": 3,
   "id": "e61b9728",
   "metadata": {},
   "outputs": [],
   "source": [
    "# Import libraries\n",
    "import pandas as pd\n",
    "import numpy as np\n",
    "import matplotlib.pyplot as plt\n",
    "import seaborn as sns\n",
    "\n",
    "import warnings\n",
    "warnings.filterwarnings('ignore')"
   ]
  },
  {
   "cell_type": "code",
   "execution_count": 4,
   "id": "116f9be7",
   "metadata": {},
   "outputs": [],
   "source": [
    "#read data\n",
    "df=pd.read_csv('new.csv' )"
   ]
  },
  {
   "cell_type": "code",
   "execution_count": 3,
   "id": "2ce364f2",
   "metadata": {},
   "outputs": [
    {
     "data": {
      "text/html": [
       "<div>\n",
       "<style scoped>\n",
       "    .dataframe tbody tr th:only-of-type {\n",
       "        vertical-align: middle;\n",
       "    }\n",
       "\n",
       "    .dataframe tbody tr th {\n",
       "        vertical-align: top;\n",
       "    }\n",
       "\n",
       "    .dataframe thead th {\n",
       "        text-align: right;\n",
       "    }\n",
       "</style>\n",
       "<table border=\"1\" class=\"dataframe\">\n",
       "  <thead>\n",
       "    <tr style=\"text-align: right;\">\n",
       "      <th></th>\n",
       "      <th>Full Name</th>\n",
       "      <th>Designation</th>\n",
       "      <th>Seniority (Head or Manager)</th>\n",
       "      <th>Function (IT, Procurement/Purchase, Others)</th>\n",
       "      <th>How Soon Would You Like to Buy (within 1month, Within 1 Quarter, After 1 Quarter)</th>\n",
       "      <th>Total Units</th>\n",
       "      <th>Org Size (Employees in Your Organization)</th>\n",
       "      <th>Lead Status (Y)</th>\n",
       "    </tr>\n",
       "  </thead>\n",
       "  <tbody>\n",
       "    <tr>\n",
       "      <th>0</th>\n",
       "      <td>Sarfaraz Sikander</td>\n",
       "      <td>Technical Manager - Middle East</td>\n",
       "      <td>Manager</td>\n",
       "      <td>IT</td>\n",
       "      <td>within a month</td>\n",
       "      <td>1</td>\n",
       "      <td>500-1000</td>\n",
       "      <td>MQL</td>\n",
       "    </tr>\n",
       "    <tr>\n",
       "      <th>1</th>\n",
       "      <td>Nasar Siddiqui</td>\n",
       "      <td>Head of Electronic Channels</td>\n",
       "      <td>Head</td>\n",
       "      <td>IT</td>\n",
       "      <td>within a month</td>\n",
       "      <td>10+</td>\n",
       "      <td>500-1000</td>\n",
       "      <td>Non MQL</td>\n",
       "    </tr>\n",
       "    <tr>\n",
       "      <th>2</th>\n",
       "      <td>Fero</td>\n",
       "      <td>Purchasing Coordinator</td>\n",
       "      <td>-</td>\n",
       "      <td>Purchase</td>\n",
       "      <td>within a month</td>\n",
       "      <td>1</td>\n",
       "      <td>200-500</td>\n",
       "      <td>Non MQL</td>\n",
       "    </tr>\n",
       "    <tr>\n",
       "      <th>3</th>\n",
       "      <td>Anwar</td>\n",
       "      <td>Director of HR, Training and Organizational De...</td>\n",
       "      <td>Head</td>\n",
       "      <td>Others</td>\n",
       "      <td>within a month</td>\n",
       "      <td>-</td>\n",
       "      <td>501 - 1000</td>\n",
       "      <td>Non MQL</td>\n",
       "    </tr>\n",
       "    <tr>\n",
       "      <th>4</th>\n",
       "      <td>Rafeek</td>\n",
       "      <td>Technical Manager</td>\n",
       "      <td>Manager</td>\n",
       "      <td>IT</td>\n",
       "      <td>within a month</td>\n",
       "      <td>0</td>\n",
       "      <td>10001+</td>\n",
       "      <td>Non MQL</td>\n",
       "    </tr>\n",
       "  </tbody>\n",
       "</table>\n",
       "</div>"
      ],
      "text/plain": [
       "           Full Name                                        Designation  \\\n",
       "0  Sarfaraz Sikander                    Technical Manager - Middle East   \n",
       "1     Nasar Siddiqui                        Head of Electronic Channels   \n",
       "2               Fero                             Purchasing Coordinator   \n",
       "3              Anwar  Director of HR, Training and Organizational De...   \n",
       "4             Rafeek                                  Technical Manager   \n",
       "\n",
       "  Seniority (Head or Manager) Function (IT, Procurement/Purchase, Others)  \\\n",
       "0                     Manager                                          IT   \n",
       "1                        Head                                          IT   \n",
       "2                           -                                    Purchase   \n",
       "3                        Head                                      Others   \n",
       "4                     Manager                                          IT   \n",
       "\n",
       "  How Soon Would You Like to Buy (within 1month, Within 1 Quarter, After 1 Quarter)  \\\n",
       "0                                     within a month                                  \n",
       "1                                     within a month                                  \n",
       "2                                     within a month                                  \n",
       "3                                     within a month                                  \n",
       "4                                     within a month                                  \n",
       "\n",
       "  Total Units Org Size (Employees in Your Organization) Lead Status (Y)  \n",
       "0           1                                  500-1000             MQL  \n",
       "1         10+                                  500-1000         Non MQL  \n",
       "2           1                                   200-500         Non MQL  \n",
       "3           -                                501 - 1000         Non MQL  \n",
       "4           0                                    10001+         Non MQL  "
      ]
     },
     "execution_count": 3,
     "metadata": {},
     "output_type": "execute_result"
    }
   ],
   "source": [
    "df.head()"
   ]
  },
  {
   "cell_type": "markdown",
   "id": "d9ef2da6",
   "metadata": {},
   "source": [
    "# Step 1: Descriptive analysis"
   ]
  },
  {
   "cell_type": "markdown",
   "id": "7801879e",
   "metadata": {},
   "source": [
    "# 1. Prepare the data. See if the data is organized and prepared well, if not please do so. The columns, Seniority and Function are left blank so you can prepare them."
   ]
  },
  {
   "cell_type": "code",
   "execution_count": 5,
   "id": "c0e91ca1",
   "metadata": {},
   "outputs": [
    {
     "name": "stdout",
     "output_type": "stream",
     "text": [
      "Rows: 198 Columns: 8\n"
     ]
    }
   ],
   "source": [
    "# Shape of dataset\n",
    "print('Rows: {} Columns: {}'.format(df.shape[0], df.shape[1]))"
   ]
  },
  {
   "cell_type": "code",
   "execution_count": 6,
   "id": "6da15777",
   "metadata": {},
   "outputs": [
    {
     "name": "stdout",
     "output_type": "stream",
     "text": [
      "<class 'pandas.core.frame.DataFrame'>\n",
      "RangeIndex: 198 entries, 0 to 197\n",
      "Data columns (total 8 columns):\n",
      " #   Column                                                                             Non-Null Count  Dtype \n",
      "---  ------                                                                             --------------  ----- \n",
      " 0   Full Name                                                                          198 non-null    object\n",
      " 1   Designation                                                                        197 non-null    object\n",
      " 2   Seniority (Head or Manager)                                                        198 non-null    object\n",
      " 3   Function (IT, Procurement/Purchase, Others)                                        197 non-null    object\n",
      " 4   How Soon Would You Like to Buy (within 1month, Within 1 Quarter, After 1 Quarter)  198 non-null    object\n",
      " 5   Total Units                                                                        198 non-null    object\n",
      " 6   Org Size (Employees in Your Organization)                                          198 non-null    object\n",
      " 7   Lead Status (Y)                                                                    198 non-null    object\n",
      "dtypes: object(8)\n",
      "memory usage: 12.5+ KB\n"
     ]
    }
   ],
   "source": [
    "df.info()"
   ]
  },
  {
   "cell_type": "code",
   "execution_count": 7,
   "id": "cb597bc5",
   "metadata": {},
   "outputs": [
    {
     "data": {
      "text/html": [
       "<div>\n",
       "<style scoped>\n",
       "    .dataframe tbody tr th:only-of-type {\n",
       "        vertical-align: middle;\n",
       "    }\n",
       "\n",
       "    .dataframe tbody tr th {\n",
       "        vertical-align: top;\n",
       "    }\n",
       "\n",
       "    .dataframe thead th {\n",
       "        text-align: right;\n",
       "    }\n",
       "</style>\n",
       "<table border=\"1\" class=\"dataframe\">\n",
       "  <thead>\n",
       "    <tr style=\"text-align: right;\">\n",
       "      <th></th>\n",
       "      <th>count</th>\n",
       "      <th>unique</th>\n",
       "      <th>top</th>\n",
       "      <th>freq</th>\n",
       "    </tr>\n",
       "  </thead>\n",
       "  <tbody>\n",
       "    <tr>\n",
       "      <th>Full Name</th>\n",
       "      <td>198</td>\n",
       "      <td>194</td>\n",
       "      <td>Aditya Kaushik</td>\n",
       "      <td>2</td>\n",
       "    </tr>\n",
       "    <tr>\n",
       "      <th>Designation</th>\n",
       "      <td>197</td>\n",
       "      <td>160</td>\n",
       "      <td>Partner</td>\n",
       "      <td>7</td>\n",
       "    </tr>\n",
       "    <tr>\n",
       "      <th>Seniority (Head or Manager)</th>\n",
       "      <td>198</td>\n",
       "      <td>3</td>\n",
       "      <td>Head</td>\n",
       "      <td>89</td>\n",
       "    </tr>\n",
       "    <tr>\n",
       "      <th>Function (IT, Procurement/Purchase, Others)</th>\n",
       "      <td>197</td>\n",
       "      <td>5</td>\n",
       "      <td>IT</td>\n",
       "      <td>98</td>\n",
       "    </tr>\n",
       "    <tr>\n",
       "      <th>How Soon Would You Like to Buy (within 1month, Within 1 Quarter, After 1 Quarter)</th>\n",
       "      <td>198</td>\n",
       "      <td>4</td>\n",
       "      <td>within a month</td>\n",
       "      <td>176</td>\n",
       "    </tr>\n",
       "    <tr>\n",
       "      <th>Total Units</th>\n",
       "      <td>198</td>\n",
       "      <td>22</td>\n",
       "      <td>6 - 10</td>\n",
       "      <td>71</td>\n",
       "    </tr>\n",
       "    <tr>\n",
       "      <th>Org Size (Employees in Your Organization)</th>\n",
       "      <td>198</td>\n",
       "      <td>30</td>\n",
       "      <td>1000 - 5000</td>\n",
       "      <td>33</td>\n",
       "    </tr>\n",
       "    <tr>\n",
       "      <th>Lead Status (Y)</th>\n",
       "      <td>198</td>\n",
       "      <td>4</td>\n",
       "      <td>Non MQL</td>\n",
       "      <td>104</td>\n",
       "    </tr>\n",
       "  </tbody>\n",
       "</table>\n",
       "</div>"
      ],
      "text/plain": [
       "                                                   count unique  \\\n",
       "Full Name                                            198    194   \n",
       "Designation                                          197    160   \n",
       "Seniority (Head or Manager)                          198      3   \n",
       "Function (IT, Procurement/Purchase, Others)          197      5   \n",
       "How Soon Would You Like to Buy (within 1month, ...   198      4   \n",
       "Total Units                                          198     22   \n",
       "Org Size (Employees in Your Organization)            198     30   \n",
       "Lead Status (Y)                                      198      4   \n",
       "\n",
       "                                                               top freq  \n",
       "Full Name                                           Aditya Kaushik    2  \n",
       "Designation                                                Partner    7  \n",
       "Seniority (Head or Manager)                                   Head   89  \n",
       "Function (IT, Procurement/Purchase, Others)                     IT   98  \n",
       "How Soon Would You Like to Buy (within 1month, ...  within a month  176  \n",
       "Total Units                                                 6 - 10   71  \n",
       "Org Size (Employees in Your Organization)              1000 - 5000   33  \n",
       "Lead Status (Y)                                            Non MQL  104  "
      ]
     },
     "execution_count": 7,
     "metadata": {},
     "output_type": "execute_result"
    }
   ],
   "source": [
    "# Statistical summary\n",
    "df.describe().T"
   ]
  },
  {
   "cell_type": "code",
   "execution_count": 8,
   "id": "7b4bb8b3",
   "metadata": {},
   "outputs": [
    {
     "data": {
      "text/plain": [
       "Full Name                                                                             0.0 %\n",
       "Designation                                                                          0.51 %\n",
       "Seniority (Head or Manager)                                                           0.0 %\n",
       "Function (IT, Procurement/Purchase, Others)                                          0.51 %\n",
       "How Soon Would You Like to Buy (within 1month, Within 1 Quarter, After 1 Quarter)     0.0 %\n",
       "Total Units                                                                           0.0 %\n",
       "Org Size (Employees in Your Organization)                                             0.0 %\n",
       "Lead Status (Y)                                                                       0.0 %\n",
       "dtype: object"
      ]
     },
     "execution_count": 8,
     "metadata": {},
     "output_type": "execute_result"
    }
   ],
   "source": [
    "# Check for null values\n",
    "round((df.isnull().sum() / df.shape[0]) * 100, 2).astype(str) + ' %'"
   ]
  },
  {
   "cell_type": "code",
   "execution_count": null,
   "id": "174e1fbf",
   "metadata": {},
   "outputs": [],
   "source": [
    "# Check for '-' in dataset\n",
    "round((df.isin(['-']).sum() / df.shape[0])\n",
    "      * 100, 2).astype(str) + ' %'"
   ]
  },
  {
   "cell_type": "code",
   "execution_count": 17,
   "id": "21461d07",
   "metadata": {},
   "outputs": [],
   "source": [
    "\n",
    "# Checking the counts of label categories\n",
    "Lead_Status = df['Lead Status (Y)'].value_counts(normalize=True)\n"
   ]
  },
  {
   "cell_type": "code",
   "execution_count": 18,
   "id": "cf25add9",
   "metadata": {},
   "outputs": [
    {
     "data": {
      "text/plain": [
       "Non MQL    0.525253\n",
       "MQL        0.459596\n",
       "-          0.010101\n",
       "MQL        0.005051\n",
       "Name: Lead Status (Y), dtype: float64"
      ]
     },
     "execution_count": 18,
     "metadata": {},
     "output_type": "execute_result"
    }
   ],
   "source": [
    "Lead_Status"
   ]
  },
  {
   "cell_type": "markdown",
   "id": "84dffc13",
   "metadata": {},
   "source": [
    "# Step 2: Exploratory Data Analysis\n",
    "2.1: Univariate Analysis"
   ]
  },
  {
   "cell_type": "code",
   "execution_count": 21,
   "id": "dc669b87",
   "metadata": {},
   "outputs": [
    {
     "data": {
      "image/png": "[encoded data removed]",
      "text/plain": [
       "<Figure size 504x360 with 1 Axes>"
      ]
     },
     "metadata": {},
     "output_type": "display_data"
    }
   ],
   "source": [
    "# Creating a barplot for 'Income'\n",
    "LeadS = df['Lead Status (Y)'].value_counts()\n",
    "\n",
    "plt.style.use('seaborn-whitegrid')\n",
    "plt.figure(figsize=(7, 5))\n",
    "sns.barplot(LeadS.index,LeadS.values, palette='bright')\n",
    "plt.title('Distribution of Income', fontdict={\n",
    "          'fontname': 'Monospace', 'fontsize': 20, 'fontweight': 'bold'})\n",
    "plt.xlabel('Status', fontdict={'fontname': 'Monospace', 'fontsize': 15})\n",
    "plt.ylabel('Number of people', fontdict={\n",
    "           'fontname': 'Monospace', 'fontsize': 15})\n",
    "plt.tick_params(labelsize=10)\n",
    "plt.show()"
   ]
  },
  {
   "cell_type": "code",
   "execution_count": 22,
   "id": "15c74b2a",
   "metadata": {},
   "outputs": [
    {
     "name": "stdout",
     "output_type": "stream",
     "text": [
      "Requirement already satisfied: sweetviz in c:\\users\\admin\\appdata\\local\\programs\\python\\python38\\lib\\site-packages (2.1.3)"
     ]
    },
    {
     "name": "stderr",
     "output_type": "stream",
     "text": [
      "WARNING: You are using pip version 20.1.1; however, version 21.2.4 is available.\n",
      "You should consider upgrading via the 'c:\\users\\admin\\appdata\\local\\programs\\python\\python38\\python.exe -m pip install --upgrade pip' command.\n"
     ]
    },
    {
     "name": "stdout",
     "output_type": "stream",
     "text": [
      "\n",
      "Requirement already satisfied: numpy>=1.16.0 in c:\\users\\admin\\appdata\\local\\programs\\python\\python38\\lib\\site-packages (from sweetviz) (1.19.5)\n",
      "Requirement already satisfied: importlib-resources>=1.2.0 in c:\\users\\admin\\appdata\\local\\programs\\python\\python38\\lib\\site-packages (from sweetviz) (5.2.2)\n",
      "Requirement already satisfied: matplotlib>=3.1.3 in c:\\users\\admin\\appdata\\local\\programs\\python\\python38\\lib\\site-packages (from sweetviz) (3.4.2)\n",
      "Requirement already satisfied: pandas!=1.0.0,!=1.0.1,!=1.0.2,>=0.25.3 in c:\\users\\admin\\appdata\\local\\programs\\python\\python38\\lib\\site-packages (from sweetviz) (1.3.0)\n",
      "Requirement already satisfied: tqdm>=4.43.0 in c:\\users\\admin\\appdata\\local\\programs\\python\\python38\\lib\\site-packages (from sweetviz) (4.61.2)\n",
      "Requirement already satisfied: jinja2>=2.11.1 in c:\\users\\admin\\appdata\\local\\programs\\python\\python38\\lib\\site-packages (from sweetviz) (3.0.1)\n",
      "Requirement already satisfied: scipy>=1.3.2 in c:\\users\\admin\\appdata\\local\\programs\\python\\python38\\lib\\site-packages (from sweetviz) (1.7.0)\n",
      "Requirement already satisfied: zipp>=3.1.0; python_version < \"3.10\" in c:\\users\\admin\\appdata\\local\\programs\\python\\python38\\lib\\site-packages (from importlib-resources>=1.2.0->sweetviz) (3.5.0)\n",
      "Requirement already satisfied: kiwisolver>=1.0.1 in c:\\users\\admin\\appdata\\local\\programs\\python\\python38\\lib\\site-packages (from matplotlib>=3.1.3->sweetviz) (1.3.1)\n",
      "Requirement already satisfied: python-dateutil>=2.7 in c:\\users\\admin\\appdata\\local\\programs\\python\\python38\\lib\\site-packages (from matplotlib>=3.1.3->sweetviz) (2.8.2)\n",
      "Requirement already satisfied: pillow>=6.2.0 in c:\\users\\admin\\appdata\\local\\programs\\python\\python38\\lib\\site-packages (from matplotlib>=3.1.3->sweetviz) (8.3.1)\n",
      "Requirement already satisfied: cycler>=0.10 in c:\\users\\admin\\appdata\\local\\programs\\python\\python38\\lib\\site-packages (from matplotlib>=3.1.3->sweetviz) (0.10.0)\n",
      "Requirement already satisfied: pyparsing>=2.2.1 in c:\\users\\admin\\appdata\\local\\programs\\python\\python38\\lib\\site-packages (from matplotlib>=3.1.3->sweetviz) (2.4.7)\n",
      "Requirement already satisfied: pytz>=2017.3 in c:\\users\\admin\\appdata\\local\\programs\\python\\python38\\lib\\site-packages (from pandas!=1.0.0,!=1.0.1,!=1.0.2,>=0.25.3->sweetviz) (2021.1)\n",
      "Requirement already satisfied: colorama; platform_system == \"Windows\" in c:\\users\\admin\\appdata\\local\\programs\\python\\python38\\lib\\site-packages (from tqdm>=4.43.0->sweetviz) (0.4.4)\n",
      "Requirement already satisfied: MarkupSafe>=2.0 in c:\\users\\admin\\appdata\\local\\programs\\python\\python38\\lib\\site-packages (from jinja2>=2.11.1->sweetviz) (2.0.1)\n",
      "Requirement already satisfied: six>=1.5 in c:\\users\\admin\\appdata\\local\\programs\\python\\python38\\lib\\site-packages (from python-dateutil>=2.7->matplotlib>=3.1.3->sweetviz) (1.15.0)\n"
     ]
    }
   ],
   "source": [
    "!pip install sweetviz"
   ]
  },
  {
   "cell_type": "code",
   "execution_count": null,
   "id": "32bdc28d",
   "metadata": {},
   "outputs": [],
   "source": [
    "import sweetviz as sv\n",
    "\n",
    "my_report = sv.analyze(df)\n",
    "my_report.show_html() # Default arguments will generate to \"SWEETVIZ_REPORT.html\""
   ]
  },
  {
   "cell_type": "code",
   "execution_count": 23,
   "id": "08e1a0b9",
   "metadata": {},
   "outputs": [
    {
     "name": "stdout",
     "output_type": "stream",
     "text": [
      "Collecting pandas-profiling"
     ]
    },
    {
     "name": "stderr",
     "output_type": "stream",
     "text": [
      "  ERROR: Command errored out with exit status 1:\n",
      "   command: 'c:\\users\\admin\\appdata\\local\\programs\\python\\python38\\python.exe' 'c:\\users\\admin\\appdata\\local\\programs\\python\\python38\\lib\\site-packages\\pip\\_vendor\\pep517\\_in_process.py' build_wheel 'C:\\Users\\Admin\\AppData\\Local\\Temp\\tmpxpy_zug9'\n",
      "       cwd: C:\\Users\\Admin\\AppData\\Local\\Temp\\pip-install-oi378cbf\\bottleneck\n",
      "  Complete output (51 lines):\n",
      "  running bdist_wheel\n",
      "  running build\n",
      "  running build_py\n",
      "  creating build\n",
      "  creating build\\lib.win-amd64-3.8\n",
      "  creating build\\lib.win-amd64-3.8\\bottleneck\n",
      "  copying bottleneck\\_pytesttester.py -> build\\lib.win-amd64-3.8\\bottleneck\n",
      "  copying bottleneck\\_version.py -> build\\lib.win-amd64-3.8\\bottleneck\n",
      "  copying bottleneck\\__init__.py -> build\\lib.win-amd64-3.8\\bottleneck\n",
      "  creating build\\lib.win-amd64-3.8\\bottleneck\\benchmark\n",
      "  copying bottleneck\\benchmark\\autotimeit.py -> build\\lib.win-amd64-3.8\\bottleneck\\benchmark\n",
      "  copying bottleneck\\benchmark\\bench.py -> build\\lib.win-amd64-3.8\\bottleneck\\benchmark\n",
      "  copying bottleneck\\benchmark\\bench_detailed.py -> build\\lib.win-amd64-3.8\\bottleneck\\benchmark\n",
      "  copying bottleneck\\benchmark\\__init__.py -> build\\lib.win-amd64-3.8\\bottleneck\\benchmark\n",
      "  creating build\\lib.win-amd64-3.8\\bottleneck\\slow\n",
      "  copying bottleneck\\slow\\move.py -> build\\lib.win-amd64-3.8\\bottleneck\\slow\n",
      "  copying bottleneck\\slow\\nonreduce.py -> build\\lib.win-amd64-3.8\\bottleneck\\slow\n",
      "  copying bottleneck\\slow\\nonreduce_axis.py -> build\\lib.win-amd64-3.8\\bottleneck\\slow\n",
      "  copying bottleneck\\slow\\reduce.py -> build\\lib.win-amd64-3.8\\bottleneck\\slow\n",
      "  copying bottleneck\\slow\\__init__.py -> build\\lib.win-amd64-3.8\\bottleneck\\slow\n",
      "  creating build\\lib.win-amd64-3.8\\bottleneck\\src\n",
      "  copying bottleneck\\src\\bn_config.py -> build\\lib.win-amd64-3.8\\bottleneck\\src\n",
      "  copying bottleneck\\src\\bn_template.py -> build\\lib.win-amd64-3.8\\bottleneck\\src\n",
      "  copying bottleneck\\src\\__init__.py -> build\\lib.win-amd64-3.8\\bottleneck\\src\n",
      "  creating build\\lib.win-amd64-3.8\\bottleneck\\tests\n",
      "  copying bottleneck\\tests\\input_modification_test.py -> build\\lib.win-amd64-3.8\\bottleneck\\tests\n",
      "  copying bottleneck\\tests\\list_input_test.py -> build\\lib.win-amd64-3.8\\bottleneck\\tests\n",
      "  copying bottleneck\\tests\\memory_test.py -> build\\lib.win-amd64-3.8\\bottleneck\\tests\n",
      "  copying bottleneck\\tests\\move_test.py -> build\\lib.win-amd64-3.8\\bottleneck\\tests\n",
      "  copying bottleneck\\tests\\nonreduce_axis_test.py -> build\\lib.win-amd64-3.8\\bottleneck\\tests\n",
      "  copying bottleneck\\tests\\nonreduce_test.py -> build\\lib.win-amd64-3.8\\bottleneck\\tests\n",
      "  copying bottleneck\\tests\\reduce_test.py -> build\\lib.win-amd64-3.8\\bottleneck\\tests\n",
      "  copying bottleneck\\tests\\scalar_input_test.py -> build\\lib.win-amd64-3.8\\bottleneck\\tests\n",
      "  copying bottleneck\\tests\\util.py -> build\\lib.win-amd64-3.8\\bottleneck\\tests\n",
      "  copying bottleneck\\tests\\__init__.py -> build\\lib.win-amd64-3.8\\bottleneck\\tests\n",
      "  UPDATING build\\lib.win-amd64-3.8\\bottleneck/_version.py\n",
      "  set build\\lib.win-amd64-3.8\\bottleneck/_version.py to '1.3.2'\n",
      "  running build_ext\n",
      "  running config\n",
      "  compiling '_configtest.c':\n",
      "  \n",
      "  \n",
      "  \n",
      "  int __attribute__((optimize(\"O3\"))) have_attribute_optimize_opt_3(void*);\n",
      "  \n",
      "  int main(void)\n",
      "  {\n",
      "      return 0;\n",
      "  }\n",
      "  \n",
      "  error: Microsoft Visual C++ 14.0 or greater is required. Get it with \"Microsoft C++ Build Tools\": https://visualstudio.microsoft.com/visual-cpp-build-tools/\n",
      "  ----------------------------------------\n",
      "  ERROR: Failed building wheel for bottleneck\n",
      "ERROR: Could not build wheels for bottleneck which use PEP 517 and cannot be installed directly\n",
      "WARNING: You are using pip version 20.1.1; however, version 21.2.4 is available.\n",
      "You should consider upgrading via the 'c:\\users\\admin\\appdata\\local\\programs\\python\\python38\\python.exe -m pip install --upgrade pip' command.\n"
     ]
    },
    {
     "name": "stdout",
     "output_type": "stream",
     "text": [
      "\n",
      "  Using cached pandas_profiling-3.0.0-py2.py3-none-any.whl (248 kB)\n",
      "Collecting visions[type_image_path]==0.7.1\n",
      "  Using cached visions-0.7.1-py3-none-any.whl (102 kB)\n",
      "Requirement already satisfied: requests>=2.24.0 in c:\\users\\admin\\appdata\\local\\programs\\python\\python38\\lib\\site-packages (from pandas-profiling) (2.26.0)\n",
      "Collecting PyYAML>=5.0.0\n",
      "  Using cached PyYAML-5.4.1-cp38-cp38-win_amd64.whl (213 kB)\n",
      "Requirement already satisfied: pandas!=1.0.0,!=1.0.1,!=1.0.2,!=1.1.0,>=0.25.3 in c:\\users\\admin\\appdata\\local\\programs\\python\\python38\\lib\\site-packages (from pandas-profiling) (1.3.0)\n",
      "Collecting pydantic>=1.8.1\n",
      "  Using cached pydantic-1.8.2-cp38-cp38-win_amd64.whl (2.0 MB)\n",
      "Requirement already satisfied: joblib in c:\\users\\admin\\appdata\\local\\programs\\python\\python38\\lib\\site-packages (from pandas-profiling) (1.0.1)\n",
      "Requirement already satisfied: scipy>=1.4.1 in c:\\users\\admin\\appdata\\local\\programs\\python\\python38\\lib\\site-packages (from pandas-profiling) (1.7.0)\n",
      "Requirement already satisfied: numpy>=1.16.0 in c:\\users\\admin\\appdata\\local\\programs\\python\\python38\\lib\\site-packages (from pandas-profiling) (1.19.5)\n",
      "Requirement already satisfied: matplotlib>=3.2.0 in c:\\users\\admin\\appdata\\local\\programs\\python\\python38\\lib\\site-packages (from pandas-profiling) (3.4.2)\n",
      "Requirement already satisfied: jinja2>=2.11.1 in c:\\users\\admin\\appdata\\local\\programs\\python\\python38\\lib\\site-packages (from pandas-profiling) (3.0.1)\n",
      "Requirement already satisfied: seaborn>=0.10.1 in c:\\users\\admin\\appdata\\local\\programs\\python\\python38\\lib\\site-packages (from pandas-profiling) (0.11.1)\n",
      "Processing c:\\users\\admin\\appdata\\local\\pip\\cache\\wheels\\23\\14\\6e\\4be5bfeeb027f4939a01764b48edd5996acf574b0913fe5243\\htmlmin-0.1.12-py3-none-any.whl\n",
      "Collecting phik>=0.11.1\n",
      "  Using cached phik-0.12.0-cp38-cp38-win_amd64.whl (659 kB)\n",
      "Collecting missingno>=0.4.2\n",
      "  Using cached missingno-0.5.0-py3-none-any.whl (8.8 kB)\n",
      "Collecting tangled-up-in-unicode==0.1.0\n",
      "  Using cached tangled_up_in_unicode-0.1.0-py3-none-any.whl (3.1 MB)\n",
      "Requirement already satisfied: tqdm>=4.48.2 in c:\\users\\admin\\appdata\\local\\programs\\python\\python38\\lib\\site-packages (from pandas-profiling) (4.61.2)\n",
      "Collecting bottleneck\n",
      "  Using cached Bottleneck-1.3.2.tar.gz (88 kB)\n",
      "  Installing build dependencies: started\n",
      "  Installing build dependencies: finished with status 'done'\n",
      "  Getting requirements to build wheel: started\n",
      "  Getting requirements to build wheel: finished with status 'done'\n",
      "    Preparing wheel metadata: started\n",
      "    Preparing wheel metadata: finished with status 'done'\n",
      "Collecting multimethod==1.4\n",
      "  Using cached multimethod-1.4-py2.py3-none-any.whl (7.3 kB)\n",
      "Collecting networkx>=2.4\n",
      "  Using cached networkx-2.6.2-py3-none-any.whl (1.9 MB)\n",
      "Requirement already satisfied: attrs>=19.3.0 in c:\\users\\admin\\appdata\\local\\programs\\python\\python38\\lib\\site-packages (from visions[type_image_path]==0.7.1->pandas-profiling) (21.2.0)\n",
      "Requirement already satisfied: Pillow; extra == \"type_image_path\" in c:\\users\\admin\\appdata\\local\\programs\\python\\python38\\lib\\site-packages (from visions[type_image_path]==0.7.1->pandas-profiling) (8.3.1)\n",
      "Processing c:\\users\\admin\\appdata\\local\\pip\\cache\\wheels\\48\\a1\\7f\\096c1269d6bf78d4768180602579b35a1e8cb1250bb4b40c74\\imagehash-4.2.1-py2.py3-none-any.whl\n",
      "Requirement already satisfied: idna<4,>=2.5; python_version >= \"3\" in c:\\users\\admin\\appdata\\local\\programs\\python\\python38\\lib\\site-packages (from requests>=2.24.0->pandas-profiling) (3.2)\n",
      "Requirement already satisfied: urllib3<1.27,>=1.21.1 in c:\\users\\admin\\appdata\\local\\programs\\python\\python38\\lib\\site-packages (from requests>=2.24.0->pandas-profiling) (1.26.6)\n",
      "Requirement already satisfied: charset-normalizer~=2.0.0; python_version >= \"3\" in c:\\users\\admin\\appdata\\local\\programs\\python\\python38\\lib\\site-packages (from requests>=2.24.0->pandas-profiling) (2.0.2)\n",
      "Requirement already satisfied: certifi>=2017.4.17 in c:\\users\\admin\\appdata\\local\\programs\\python\\python38\\lib\\site-packages (from requests>=2.24.0->pandas-profiling) (2021.5.30)\n",
      "Requirement already satisfied: pytz>=2017.3 in c:\\users\\admin\\appdata\\local\\programs\\python\\python38\\lib\\site-packages (from pandas!=1.0.0,!=1.0.1,!=1.0.2,!=1.1.0,>=0.25.3->pandas-profiling) (2021.1)\n",
      "Requirement already satisfied: python-dateutil>=2.7.3 in c:\\users\\admin\\appdata\\local\\programs\\python\\python38\\lib\\site-packages (from pandas!=1.0.0,!=1.0.1,!=1.0.2,!=1.1.0,>=0.25.3->pandas-profiling) (2.8.2)\n",
      "Requirement already satisfied: typing-extensions>=3.7.4.3 in c:\\users\\admin\\appdata\\local\\programs\\python\\python38\\lib\\site-packages (from pydantic>=1.8.1->pandas-profiling) (3.7.4.3)\n",
      "Requirement already satisfied: kiwisolver>=1.0.1 in c:\\users\\admin\\appdata\\local\\programs\\python\\python38\\lib\\site-packages (from matplotlib>=3.2.0->pandas-profiling) (1.3.1)\n",
      "Requirement already satisfied: cycler>=0.10 in c:\\users\\admin\\appdata\\local\\programs\\python\\python38\\lib\\site-packages (from matplotlib>=3.2.0->pandas-profiling) (0.10.0)\n",
      "Requirement already satisfied: pyparsing>=2.2.1 in c:\\users\\admin\\appdata\\local\\programs\\python\\python38\\lib\\site-packages (from matplotlib>=3.2.0->pandas-profiling) (2.4.7)\n",
      "Requirement already satisfied: MarkupSafe>=2.0 in c:\\users\\admin\\appdata\\local\\programs\\python\\python38\\lib\\site-packages (from jinja2>=2.11.1->pandas-profiling) (2.0.1)\n",
      "Requirement already satisfied: colorama; platform_system == \"Windows\" in c:\\users\\admin\\appdata\\local\\programs\\python\\python38\\lib\\site-packages (from tqdm>=4.48.2->pandas-profiling) (0.4.4)\n",
      "Collecting PyWavelets\n",
      "  Using cached PyWavelets-1.1.1-cp38-cp38-win_amd64.whl (4.3 MB)\n",
      "Requirement already satisfied: six in c:\\users\\admin\\appdata\\local\\programs\\python\\python38\\lib\\site-packages (from imagehash; extra == \"type_image_path\"->visions[type_image_path]==0.7.1->pandas-profiling) (1.15.0)\n",
      "Building wheels for collected packages: bottleneck\n",
      "  Building wheel for bottleneck (PEP 517): started\n",
      "  Building wheel for bottleneck (PEP 517): finished with status 'error'\n",
      "Failed to build bottleneck\n"
     ]
    }
   ],
   "source": [
    "\n",
    "#Installing Pandas Profiling\n",
    "!pip install pandas-profiling"
   ]
  },
  {
   "cell_type": "code",
   "execution_count": 25,
   "id": "37322781",
   "metadata": {},
   "outputs": [
    {
     "name": "stdout",
     "output_type": "stream",
     "text": [
      "Collecting pandas-profiling"
     ]
    },
    {
     "name": "stderr",
     "output_type": "stream",
     "text": [
      "  ERROR: Command errored out with exit status 1:\n",
      "   command: 'c:\\users\\admin\\appdata\\local\\programs\\python\\python38\\python.exe' 'c:\\users\\admin\\appdata\\local\\programs\\python\\python38\\lib\\site-packages\\pip\\_vendor\\pep517\\_in_process.py' build_wheel 'C:\\Users\\Admin\\AppData\\Local\\Temp\\tmp37b_97ub'\n",
      "       cwd: C:\\Users\\Admin\\AppData\\Local\\Temp\\pip-install-aau9c0mi\\bottleneck\n",
      "  Complete output (51 lines):\n",
      "  running bdist_wheel\n",
      "  running build\n",
      "  running build_py\n",
      "  creating build\n",
      "  creating build\\lib.win-amd64-3.8\n",
      "  creating build\\lib.win-amd64-3.8\\bottleneck\n",
      "  copying bottleneck\\_pytesttester.py -> build\\lib.win-amd64-3.8\\bottleneck\n",
      "  copying bottleneck\\_version.py -> build\\lib.win-amd64-3.8\\bottleneck\n",
      "  copying bottleneck\\__init__.py -> build\\lib.win-amd64-3.8\\bottleneck\n",
      "  creating build\\lib.win-amd64-3.8\\bottleneck\\benchmark\n",
      "  copying bottleneck\\benchmark\\autotimeit.py -> build\\lib.win-amd64-3.8\\bottleneck\\benchmark\n",
      "  copying bottleneck\\benchmark\\bench.py -> build\\lib.win-amd64-3.8\\bottleneck\\benchmark\n",
      "  copying bottleneck\\benchmark\\bench_detailed.py -> build\\lib.win-amd64-3.8\\bottleneck\\benchmark\n",
      "  copying bottleneck\\benchmark\\__init__.py -> build\\lib.win-amd64-3.8\\bottleneck\\benchmark\n",
      "  creating build\\lib.win-amd64-3.8\\bottleneck\\slow\n",
      "  copying bottleneck\\slow\\move.py -> build\\lib.win-amd64-3.8\\bottleneck\\slow\n",
      "  copying bottleneck\\slow\\nonreduce.py -> build\\lib.win-amd64-3.8\\bottleneck\\slow\n",
      "  copying bottleneck\\slow\\nonreduce_axis.py -> build\\lib.win-amd64-3.8\\bottleneck\\slow\n",
      "  copying bottleneck\\slow\\reduce.py -> build\\lib.win-amd64-3.8\\bottleneck\\slow\n",
      "  copying bottleneck\\slow\\__init__.py -> build\\lib.win-amd64-3.8\\bottleneck\\slow\n",
      "  creating build\\lib.win-amd64-3.8\\bottleneck\\src\n",
      "  copying bottleneck\\src\\bn_config.py -> build\\lib.win-amd64-3.8\\bottleneck\\src\n",
      "  copying bottleneck\\src\\bn_template.py -> build\\lib.win-amd64-3.8\\bottleneck\\src\n",
      "  copying bottleneck\\src\\__init__.py -> build\\lib.win-amd64-3.8\\bottleneck\\src\n",
      "  creating build\\lib.win-amd64-3.8\\bottleneck\\tests\n",
      "  copying bottleneck\\tests\\input_modification_test.py -> build\\lib.win-amd64-3.8\\bottleneck\\tests\n",
      "  copying bottleneck\\tests\\list_input_test.py -> build\\lib.win-amd64-3.8\\bottleneck\\tests\n",
      "  copying bottleneck\\tests\\memory_test.py -> build\\lib.win-amd64-3.8\\bottleneck\\tests\n",
      "  copying bottleneck\\tests\\move_test.py -> build\\lib.win-amd64-3.8\\bottleneck\\tests\n",
      "  copying bottleneck\\tests\\nonreduce_axis_test.py -> build\\lib.win-amd64-3.8\\bottleneck\\tests\n",
      "  copying bottleneck\\tests\\nonreduce_test.py -> build\\lib.win-amd64-3.8\\bottleneck\\tests\n",
      "  copying bottleneck\\tests\\reduce_test.py -> build\\lib.win-amd64-3.8\\bottleneck\\tests\n",
      "  copying bottleneck\\tests\\scalar_input_test.py -> build\\lib.win-amd64-3.8\\bottleneck\\tests\n",
      "  copying bottleneck\\tests\\util.py -> build\\lib.win-amd64-3.8\\bottleneck\\tests\n",
      "  copying bottleneck\\tests\\__init__.py -> build\\lib.win-amd64-3.8\\bottleneck\\tests\n",
      "  UPDATING build\\lib.win-amd64-3.8\\bottleneck/_version.py\n",
      "  set build\\lib.win-amd64-3.8\\bottleneck/_version.py to '1.3.2'\n",
      "  running build_ext\n",
      "  running config\n",
      "  compiling '_configtest.c':\n",
      "  \n",
      "  \n",
      "  \n",
      "  int __attribute__((optimize(\"O3\"))) have_attribute_optimize_opt_3(void*);\n",
      "  \n",
      "  int main(void)\n",
      "  {\n",
      "      return 0;\n",
      "  }\n",
      "  \n",
      "  error: Microsoft Visual C++ 14.0 or greater is required. Get it with \"Microsoft C++ Build Tools\": https://visualstudio.microsoft.com/visual-cpp-build-tools/\n",
      "  ----------------------------------------\n",
      "  ERROR: Failed building wheel for bottleneck\n",
      "ERROR: Could not build wheels for bottleneck which use PEP 517 and cannot be installed directly\n",
      "WARNING: You are using pip version 20.1.1; however, version 21.2.4 is available.\n",
      "You should consider upgrading via the 'c:\\users\\admin\\appdata\\local\\programs\\python\\python38\\python.exe -m pip install --upgrade pip' command.\n"
     ]
    },
    {
     "name": "stdout",
     "output_type": "stream",
     "text": [
      "\n",
      "  Using cached pandas_profiling-3.0.0-py2.py3-none-any.whl (248 kB)\n",
      "Collecting pydantic>=1.8.1\n",
      "  Using cached pydantic-1.8.2-cp38-cp38-win_amd64.whl (2.0 MB)\n",
      "Collecting missingno>=0.4.2\n",
      "  Using cached missingno-0.5.0-py3-none-any.whl (8.8 kB)\n",
      "Requirement already satisfied: scipy>=1.4.1 in c:\\users\\admin\\appdata\\local\\programs\\python\\python38\\lib\\site-packages (from pandas-profiling) (1.7.0)\n",
      "Requirement already satisfied: numpy>=1.16.0 in c:\\users\\admin\\appdata\\local\\programs\\python\\python38\\lib\\site-packages (from pandas-profiling) (1.19.5)\n",
      "Processing c:\\users\\admin\\appdata\\local\\pip\\cache\\wheels\\23\\14\\6e\\4be5bfeeb027f4939a01764b48edd5996acf574b0913fe5243\\htmlmin-0.1.12-py3-none-any.whl\n",
      "Collecting visions[type_image_path]==0.7.1\n",
      "  Using cached visions-0.7.1-py3-none-any.whl (102 kB)\n",
      "Requirement already satisfied: joblib in c:\\users\\admin\\appdata\\local\\programs\\python\\python38\\lib\\site-packages (from pandas-profiling) (1.0.1)\n",
      "Collecting phik>=0.11.1\n",
      "  Using cached phik-0.12.0-cp38-cp38-win_amd64.whl (659 kB)\n",
      "Requirement already satisfied: tqdm>=4.48.2 in c:\\users\\admin\\appdata\\local\\programs\\python\\python38\\lib\\site-packages (from pandas-profiling) (4.61.2)\n",
      "Collecting PyYAML>=5.0.0\n",
      "  Using cached PyYAML-5.4.1-cp38-cp38-win_amd64.whl (213 kB)\n",
      "Requirement already satisfied: pandas!=1.0.0,!=1.0.1,!=1.0.2,!=1.1.0,>=0.25.3 in c:\\users\\admin\\appdata\\local\\programs\\python\\python38\\lib\\site-packages (from pandas-profiling) (1.3.0)\n",
      "Requirement already satisfied: jinja2>=2.11.1 in c:\\users\\admin\\appdata\\local\\programs\\python\\python38\\lib\\site-packages (from pandas-profiling) (3.0.1)\n",
      "Collecting tangled-up-in-unicode==0.1.0\n",
      "  Using cached tangled_up_in_unicode-0.1.0-py3-none-any.whl (3.1 MB)\n",
      "Requirement already satisfied: seaborn>=0.10.1 in c:\\users\\admin\\appdata\\local\\programs\\python\\python38\\lib\\site-packages (from pandas-profiling) (0.11.1)\n",
      "Requirement already satisfied: matplotlib>=3.2.0 in c:\\users\\admin\\appdata\\local\\programs\\python\\python38\\lib\\site-packages (from pandas-profiling) (3.4.2)\n",
      "Requirement already satisfied: requests>=2.24.0 in c:\\users\\admin\\appdata\\local\\programs\\python\\python38\\lib\\site-packages (from pandas-profiling) (2.26.0)\n",
      "Requirement already satisfied: typing-extensions>=3.7.4.3 in c:\\users\\admin\\appdata\\local\\programs\\python\\python38\\lib\\site-packages (from pydantic>=1.8.1->pandas-profiling) (3.7.4.3)\n",
      "Collecting networkx>=2.4\n",
      "  Using cached networkx-2.6.2-py3-none-any.whl (1.9 MB)\n",
      "Collecting bottleneck\n",
      "  Using cached Bottleneck-1.3.2.tar.gz (88 kB)\n",
      "  Installing build dependencies: started\n",
      "  Installing build dependencies: finished with status 'done'\n",
      "  Getting requirements to build wheel: started\n",
      "  Getting requirements to build wheel: finished with status 'done'\n",
      "    Preparing wheel metadata: started\n",
      "    Preparing wheel metadata: finished with status 'done'\n",
      "Requirement already satisfied: attrs>=19.3.0 in c:\\users\\admin\\appdata\\local\\programs\\python\\python38\\lib\\site-packages (from visions[type_image_path]==0.7.1->pandas-profiling) (21.2.0)\n",
      "Collecting multimethod==1.4\n",
      "  Using cached multimethod-1.4-py2.py3-none-any.whl (7.3 kB)\n",
      "Requirement already satisfied: Pillow; extra == \"type_image_path\" in c:\\users\\admin\\appdata\\local\\programs\\python\\python38\\lib\\site-packages (from visions[type_image_path]==0.7.1->pandas-profiling) (8.3.1)\n",
      "Processing c:\\users\\admin\\appdata\\local\\pip\\cache\\wheels\\48\\a1\\7f\\096c1269d6bf78d4768180602579b35a1e8cb1250bb4b40c74\\imagehash-4.2.1-py2.py3-none-any.whl\n",
      "Requirement already satisfied: colorama; platform_system == \"Windows\" in c:\\users\\admin\\appdata\\local\\programs\\python\\python38\\lib\\site-packages (from tqdm>=4.48.2->pandas-profiling) (0.4.4)\n",
      "Requirement already satisfied: pytz>=2017.3 in c:\\users\\admin\\appdata\\local\\programs\\python\\python38\\lib\\site-packages (from pandas!=1.0.0,!=1.0.1,!=1.0.2,!=1.1.0,>=0.25.3->pandas-profiling) (2021.1)\n",
      "Requirement already satisfied: python-dateutil>=2.7.3 in c:\\users\\admin\\appdata\\local\\programs\\python\\python38\\lib\\site-packages (from pandas!=1.0.0,!=1.0.1,!=1.0.2,!=1.1.0,>=0.25.3->pandas-profiling) (2.8.2)\n",
      "Requirement already satisfied: MarkupSafe>=2.0 in c:\\users\\admin\\appdata\\local\\programs\\python\\python38\\lib\\site-packages (from jinja2>=2.11.1->pandas-profiling) (2.0.1)\n",
      "Requirement already satisfied: kiwisolver>=1.0.1 in c:\\users\\admin\\appdata\\local\\programs\\python\\python38\\lib\\site-packages (from matplotlib>=3.2.0->pandas-profiling) (1.3.1)\n",
      "Requirement already satisfied: cycler>=0.10 in c:\\users\\admin\\appdata\\local\\programs\\python\\python38\\lib\\site-packages (from matplotlib>=3.2.0->pandas-profiling) (0.10.0)\n",
      "Requirement already satisfied: pyparsing>=2.2.1 in c:\\users\\admin\\appdata\\local\\programs\\python\\python38\\lib\\site-packages (from matplotlib>=3.2.0->pandas-profiling) (2.4.7)\n",
      "Requirement already satisfied: urllib3<1.27,>=1.21.1 in c:\\users\\admin\\appdata\\local\\programs\\python\\python38\\lib\\site-packages (from requests>=2.24.0->pandas-profiling) (1.26.6)\n",
      "Requirement already satisfied: charset-normalizer~=2.0.0; python_version >= \"3\" in c:\\users\\admin\\appdata\\local\\programs\\python\\python38\\lib\\site-packages (from requests>=2.24.0->pandas-profiling) (2.0.2)\n",
      "Requirement already satisfied: idna<4,>=2.5; python_version >= \"3\" in c:\\users\\admin\\appdata\\local\\programs\\python\\python38\\lib\\site-packages (from requests>=2.24.0->pandas-profiling) (3.2)\n",
      "Requirement already satisfied: certifi>=2017.4.17 in c:\\users\\admin\\appdata\\local\\programs\\python\\python38\\lib\\site-packages (from requests>=2.24.0->pandas-profiling) (2021.5.30)\n",
      "Requirement already satisfied: six in c:\\users\\admin\\appdata\\local\\programs\\python\\python38\\lib\\site-packages (from imagehash; extra == \"type_image_path\"->visions[type_image_path]==0.7.1->pandas-profiling) (1.15.0)\n",
      "Collecting PyWavelets\n",
      "  Using cached PyWavelets-1.1.1-cp38-cp38-win_amd64.whl (4.3 MB)\n",
      "Building wheels for collected packages: bottleneck\n",
      "  Building wheel for bottleneck (PEP 517): started\n",
      "  Building wheel for bottleneck (PEP 517): finished with status 'error'\n",
      "Failed to build bottleneck\n"
     ]
    }
   ],
   "source": [
    "import sys\n",
    "!{sys.executable} -m pip install pandas-profiling"
   ]
  },
  {
   "cell_type": "code",
   "execution_count": 32,
   "id": "67f99cae",
   "metadata": {},
   "outputs": [
    {
     "name": "stdout",
     "output_type": "stream",
     "text": [
      "Requirement already satisfied: jupyter in c:\\users\\admin\\appdata\\local\\programs\\python\\python38\\lib\\site-packages (1.0.0)\n",
      "Requirement already satisfied: notebook in c:\\users\\admin\\appdata\\local\\programs\\python\\python38\\lib\\site-packages (6.4.0)\n",
      "Requirement already satisfied: jupyter-console in c:\\users\\admin\\appdata\\local\\programs\\python\\python38\\lib\\site-packages (from jupyter) (6.4.0)\n",
      "Requirement already satisfied: ipywidgets in c:\\users\\admin\\appdata\\local\\programs\\python\\python38\\lib\\site-packages (from jupyter) (7.6.3)\n",
      "Requirement already satisfied: qtconsole in c:\\users\\admin\\appdata\\local\\programs\\python\\python38\\lib\\site-packages (from jupyter) (5.1.1)\n",
      "Requirement already satisfied: ipykernel in c:\\users\\admin\\appdata\\local\\programs\\python\\python38\\lib\\site-packages (from jupyter) (6.0.2)\n",
      "Requirement already satisfied: nbconvert in c:\\users\\admin\\appdata\\local\\programs\\python\\python38\\lib\\site-packages (from jupyter) (6.1.0)\n",
      "Requirement already satisfied: argon2-cffi in c:\\users\\admin\\appdata\\local\\programs\\python\\python38\\lib\\site-packages (from notebook) (20.1.0)\n",
      "Requirement already satisfied: ipython-genutils in c:\\users\\admin\\appdata\\local\\programs\\python\\python38\\lib\\site-packages (from notebook) (0.2.0)\n",
      "Requirement already satisfied: jupyter-client>=5.3.4 in c:\\users\\admin\\appdata\\local\\programs\\python\\python38\\lib\\site-packages (from notebook) (6.1.12)\n",
      "Requirement already satisfied: tornado>=6.1 in c:\\users\\admin\\appdata\\local\\programs\\python\\python38\\lib\\site-packages (from notebook) (6.1)\n",
      "Requirement already satisfied: nbformat in c:\\users\\admin\\appdata\\local\\programs\\python\\python38\\lib\\site-packages (from notebook) (5.1.3)\n",
      "Requirement already satisfied: Send2Trash>=1.5.0 in c:\\users\\admin\\appdata\\local\\programs\\python\\python38\\lib\\site-packages (from notebook) (1.7.1)\n",
      "Requirement already satisfied: prometheus-client in c:\\users\\admin\\appdata\\local\\programs\\python\\python38\\lib\\site-packages (from notebook) (0.11.0)\n",
      "Requirement already satisfied: jinja2 in c:\\users\\admin\\appdata\\local\\programs\\python\\python38\\lib\\site-packages (from notebook) (3.0.1)\n",
      "Requirement already satisfied: jupyter-core>=4.6.1 in c:\\users\\admin\\appdata\\local\\programs\\python\\python38\\lib\\site-packages (from notebook) (4.7.1)\n",
      "Requirement already satisfied: pyzmq>=17 in c:\\users\\admin\\appdata\\local\\programs\\python\\python38\\lib\\site-packages (from notebook) (22.1.0)\n",
      "Requirement already satisfied: traitlets>=4.2.1 in c:\\users\\admin\\appdata\\local\\programs\\python\\python38\\lib\\site-packages (from notebook) (5.0.5)\n",
      "Requirement already satisfied: terminado>=0.8.3 in c:\\users\\admin\\appdata\\local\\programs\\python\\python38\\lib\\site-packages (from notebook) (0.10.1)"
     ]
    },
    {
     "name": "stderr",
     "output_type": "stream",
     "text": [
      "WARNING: You are using pip version 20.1.1; however, version 21.2.4 is available.\n",
      "You should consider upgrading via the 'c:\\users\\admin\\appdata\\local\\programs\\python\\python38\\python.exe -m pip install --upgrade pip' command.\n"
     ]
    },
    {
     "name": "stdout",
     "output_type": "stream",
     "text": [
      "\n",
      "Requirement already satisfied: prompt-toolkit!=3.0.0,!=3.0.1,<3.1.0,>=2.0.0 in c:\\users\\admin\\appdata\\local\\programs\\python\\python38\\lib\\site-packages (from jupyter-console->jupyter) (3.0.19)\n",
      "Requirement already satisfied: ipython in c:\\users\\admin\\appdata\\local\\programs\\python\\python38\\lib\\site-packages (from jupyter-console->jupyter) (7.25.0)\n",
      "Requirement already satisfied: pygments in c:\\users\\admin\\appdata\\local\\programs\\python\\python38\\lib\\site-packages (from jupyter-console->jupyter) (2.9.0)\n",
      "Requirement already satisfied: jupyterlab-widgets>=1.0.0; python_version >= \"3.6\" in c:\\users\\admin\\appdata\\local\\programs\\python\\python38\\lib\\site-packages (from ipywidgets->jupyter) (1.0.0)\n",
      "Requirement already satisfied: widgetsnbextension~=3.5.0 in c:\\users\\admin\\appdata\\local\\programs\\python\\python38\\lib\\site-packages (from ipywidgets->jupyter) (3.5.1)\n",
      "Requirement already satisfied: qtpy in c:\\users\\admin\\appdata\\local\\programs\\python\\python38\\lib\\site-packages (from qtconsole->jupyter) (1.9.0)\n",
      "Requirement already satisfied: matplotlib-inline<0.2.0,>=0.1.0 in c:\\users\\admin\\appdata\\local\\programs\\python\\python38\\lib\\site-packages (from ipykernel->jupyter) (0.1.2)\n",
      "Requirement already satisfied: debugpy<2.0,>=1.0.0 in c:\\users\\admin\\appdata\\local\\programs\\python\\python38\\lib\\site-packages (from ipykernel->jupyter) (1.3.0)\n",
      "Requirement already satisfied: defusedxml in c:\\users\\admin\\appdata\\local\\programs\\python\\python38\\lib\\site-packages (from nbconvert->jupyter) (0.7.1)\n",
      "Requirement already satisfied: mistune<2,>=0.8.1 in c:\\users\\admin\\appdata\\local\\programs\\python\\python38\\lib\\site-packages (from nbconvert->jupyter) (0.8.4)\n",
      "Requirement already satisfied: testpath in c:\\users\\admin\\appdata\\local\\programs\\python\\python38\\lib\\site-packages (from nbconvert->jupyter) (0.5.0)\n",
      "Requirement already satisfied: nbclient<0.6.0,>=0.5.0 in c:\\users\\admin\\appdata\\local\\programs\\python\\python38\\lib\\site-packages (from nbconvert->jupyter) (0.5.3)\n",
      "Requirement already satisfied: entrypoints>=0.2.2 in c:\\users\\admin\\appdata\\local\\programs\\python\\python38\\lib\\site-packages (from nbconvert->jupyter) (0.3)\n",
      "Requirement already satisfied: jupyterlab-pygments in c:\\users\\admin\\appdata\\local\\programs\\python\\python38\\lib\\site-packages (from nbconvert->jupyter) (0.1.2)\n",
      "Requirement already satisfied: pandocfilters>=1.4.1 in c:\\users\\admin\\appdata\\local\\programs\\python\\python38\\lib\\site-packages (from nbconvert->jupyter) (1.4.3)\n",
      "Requirement already satisfied: bleach in c:\\users\\admin\\appdata\\local\\programs\\python\\python38\\lib\\site-packages (from nbconvert->jupyter) (3.3.1)\n",
      "Requirement already satisfied: six in c:\\users\\admin\\appdata\\local\\programs\\python\\python38\\lib\\site-packages (from argon2-cffi->notebook) (1.15.0)\n",
      "Requirement already satisfied: cffi>=1.0.0 in c:\\users\\admin\\appdata\\local\\programs\\python\\python38\\lib\\site-packages (from argon2-cffi->notebook) (1.14.6)\n",
      "Requirement already satisfied: python-dateutil>=2.1 in c:\\users\\admin\\appdata\\local\\programs\\python\\python38\\lib\\site-packages (from jupyter-client>=5.3.4->notebook) (2.8.2)\n",
      "Requirement already satisfied: jsonschema!=2.5.0,>=2.4 in c:\\users\\admin\\appdata\\local\\programs\\python\\python38\\lib\\site-packages (from nbformat->notebook) (3.2.0)\n",
      "Requirement already satisfied: MarkupSafe>=2.0 in c:\\users\\admin\\appdata\\local\\programs\\python\\python38\\lib\\site-packages (from jinja2->notebook) (2.0.1)\n",
      "Requirement already satisfied: pywin32>=1.0; sys_platform == \"win32\" in c:\\users\\admin\\appdata\\local\\programs\\python\\python38\\lib\\site-packages (from jupyter-core>=4.6.1->notebook) (301)\n",
      "Requirement already satisfied: pywinpty>=1.1.0; os_name == \"nt\" in c:\\users\\admin\\appdata\\local\\programs\\python\\python38\\lib\\site-packages (from terminado>=0.8.3->notebook) (1.1.3)\n",
      "Requirement already satisfied: wcwidth in c:\\users\\admin\\appdata\\local\\programs\\python\\python38\\lib\\site-packages (from prompt-toolkit!=3.0.0,!=3.0.1,<3.1.0,>=2.0.0->jupyter-console->jupyter) (0.2.5)\n",
      "Requirement already satisfied: pickleshare in c:\\users\\admin\\appdata\\local\\programs\\python\\python38\\lib\\site-packages (from ipython->jupyter-console->jupyter) (0.7.5)\n",
      "Requirement already satisfied: backcall in c:\\users\\admin\\appdata\\local\\programs\\python\\python38\\lib\\site-packages (from ipython->jupyter-console->jupyter) (0.2.0)\n",
      "Requirement already satisfied: setuptools>=18.5 in c:\\users\\admin\\appdata\\local\\programs\\python\\python38\\lib\\site-packages (from ipython->jupyter-console->jupyter) (47.1.0)\n",
      "Requirement already satisfied: jedi>=0.16 in c:\\users\\admin\\appdata\\local\\programs\\python\\python38\\lib\\site-packages (from ipython->jupyter-console->jupyter) (0.18.0)\n",
      "Requirement already satisfied: colorama; sys_platform == \"win32\" in c:\\users\\admin\\appdata\\local\\programs\\python\\python38\\lib\\site-packages (from ipython->jupyter-console->jupyter) (0.4.4)\n",
      "Requirement already satisfied: decorator in c:\\users\\admin\\appdata\\local\\programs\\python\\python38\\lib\\site-packages (from ipython->jupyter-console->jupyter) (5.0.9)\n",
      "Requirement already satisfied: async-generator in c:\\users\\admin\\appdata\\local\\programs\\python\\python38\\lib\\site-packages (from nbclient<0.6.0,>=0.5.0->nbconvert->jupyter) (1.10)\n",
      "Requirement already satisfied: nest-asyncio in c:\\users\\admin\\appdata\\local\\programs\\python\\python38\\lib\\site-packages (from nbclient<0.6.0,>=0.5.0->nbconvert->jupyter) (1.5.1)\n",
      "Requirement already satisfied: webencodings in c:\\users\\admin\\appdata\\local\\programs\\python\\python38\\lib\\site-packages (from bleach->nbconvert->jupyter) (0.5.1)\n",
      "Requirement already satisfied: packaging in c:\\users\\admin\\appdata\\local\\programs\\python\\python38\\lib\\site-packages (from bleach->nbconvert->jupyter) (21.0)\n",
      "Requirement already satisfied: pycparser in c:\\users\\admin\\appdata\\local\\programs\\python\\python38\\lib\\site-packages (from cffi>=1.0.0->argon2-cffi->notebook) (2.20)\n",
      "Requirement already satisfied: pyrsistent>=0.14.0 in c:\\users\\admin\\appdata\\local\\programs\\python\\python38\\lib\\site-packages (from jsonschema!=2.5.0,>=2.4->nbformat->notebook) (0.18.0)\n",
      "Requirement already satisfied: attrs>=17.4.0 in c:\\users\\admin\\appdata\\local\\programs\\python\\python38\\lib\\site-packages (from jsonschema!=2.5.0,>=2.4->nbformat->notebook) (21.2.0)\n",
      "Requirement already satisfied: parso<0.9.0,>=0.8.0 in c:\\users\\admin\\appdata\\local\\programs\\python\\python38\\lib\\site-packages (from jedi>=0.16->ipython->jupyter-console->jupyter) (0.8.2)\n",
      "Requirement already satisfied: pyparsing>=2.0.2 in c:\\users\\admin\\appdata\\local\\programs\\python\\python38\\lib\\site-packages (from packaging->bleach->nbconvert->jupyter) (2.4.7)\n"
     ]
    }
   ],
   "source": [
    "!pip3 install jupyter notebook"
   ]
  },
  {
   "cell_type": "code",
   "execution_count": 34,
   "id": "a5c9e12c",
   "metadata": {},
   "outputs": [
    {
     "name": "stdout",
     "output_type": "stream",
     "text": [
      "Collecting https://github.com/pandas-profiling/pandas-profiling/archive/master.zip"
     ]
    },
    {
     "name": "stderr",
     "output_type": "stream",
     "text": [
      "  ERROR: Command errored out with exit status 1:\n",
      "   command: 'c:\\users\\admin\\appdata\\local\\programs\\python\\python38\\python.exe' 'c:\\users\\admin\\appdata\\local\\programs\\python\\python38\\lib\\site-packages\\pip\\_vendor\\pep517\\_in_process.py' build_wheel 'C:\\Users\\Admin\\AppData\\Local\\Temp\\tmpd5uveq5c'\n",
      "       cwd: C:\\Users\\Admin\\AppData\\Local\\Temp\\pip-install-rx0r4hpe\\bottleneck\n",
      "  Complete output (51 lines):\n",
      "  running bdist_wheel\n",
      "  running build\n",
      "  running build_py\n",
      "  creating build\n",
      "  creating build\\lib.win-amd64-3.8\n",
      "  creating build\\lib.win-amd64-3.8\\bottleneck\n",
      "  copying bottleneck\\_pytesttester.py -> build\\lib.win-amd64-3.8\\bottleneck\n",
      "  copying bottleneck\\_version.py -> build\\lib.win-amd64-3.8\\bottleneck\n",
      "  copying bottleneck\\__init__.py -> build\\lib.win-amd64-3.8\\bottleneck\n",
      "  creating build\\lib.win-amd64-3.8\\bottleneck\\benchmark\n",
      "  copying bottleneck\\benchmark\\autotimeit.py -> build\\lib.win-amd64-3.8\\bottleneck\\benchmark\n",
      "  copying bottleneck\\benchmark\\bench.py -> build\\lib.win-amd64-3.8\\bottleneck\\benchmark\n",
      "  copying bottleneck\\benchmark\\bench_detailed.py -> build\\lib.win-amd64-3.8\\bottleneck\\benchmark\n",
      "  copying bottleneck\\benchmark\\__init__.py -> build\\lib.win-amd64-3.8\\bottleneck\\benchmark\n",
      "  creating build\\lib.win-amd64-3.8\\bottleneck\\slow\n",
      "  copying bottleneck\\slow\\move.py -> build\\lib.win-amd64-3.8\\bottleneck\\slow\n",
      "  copying bottleneck\\slow\\nonreduce.py -> build\\lib.win-amd64-3.8\\bottleneck\\slow\n",
      "  copying bottleneck\\slow\\nonreduce_axis.py -> build\\lib.win-amd64-3.8\\bottleneck\\slow\n",
      "  copying bottleneck\\slow\\reduce.py -> build\\lib.win-amd64-3.8\\bottleneck\\slow\n",
      "  copying bottleneck\\slow\\__init__.py -> build\\lib.win-amd64-3.8\\bottleneck\\slow\n",
      "  creating build\\lib.win-amd64-3.8\\bottleneck\\src\n",
      "  copying bottleneck\\src\\bn_config.py -> build\\lib.win-amd64-3.8\\bottleneck\\src\n",
      "  copying bottleneck\\src\\bn_template.py -> build\\lib.win-amd64-3.8\\bottleneck\\src\n",
      "  copying bottleneck\\src\\__init__.py -> build\\lib.win-amd64-3.8\\bottleneck\\src\n",
      "  creating build\\lib.win-amd64-3.8\\bottleneck\\tests\n",
      "  copying bottleneck\\tests\\input_modification_test.py -> build\\lib.win-amd64-3.8\\bottleneck\\tests\n",
      "  copying bottleneck\\tests\\list_input_test.py -> build\\lib.win-amd64-3.8\\bottleneck\\tests\n",
      "  copying bottleneck\\tests\\memory_test.py -> build\\lib.win-amd64-3.8\\bottleneck\\tests\n",
      "  copying bottleneck\\tests\\move_test.py -> build\\lib.win-amd64-3.8\\bottleneck\\tests\n",
      "  copying bottleneck\\tests\\nonreduce_axis_test.py -> build\\lib.win-amd64-3.8\\bottleneck\\tests\n",
      "  copying bottleneck\\tests\\nonreduce_test.py -> build\\lib.win-amd64-3.8\\bottleneck\\tests\n",
      "  copying bottleneck\\tests\\reduce_test.py -> build\\lib.win-amd64-3.8\\bottleneck\\tests\n",
      "  copying bottleneck\\tests\\scalar_input_test.py -> build\\lib.win-amd64-3.8\\bottleneck\\tests\n",
      "  copying bottleneck\\tests\\util.py -> build\\lib.win-amd64-3.8\\bottleneck\\tests\n",
      "  copying bottleneck\\tests\\__init__.py -> build\\lib.win-amd64-3.8\\bottleneck\\tests\n",
      "  UPDATING build\\lib.win-amd64-3.8\\bottleneck/_version.py\n",
      "  set build\\lib.win-amd64-3.8\\bottleneck/_version.py to '1.3.2'\n",
      "  running build_ext\n",
      "  running config\n",
      "  compiling '_configtest.c':\n",
      "  \n",
      "  \n",
      "  \n",
      "  int __attribute__((optimize(\"O3\"))) have_attribute_optimize_opt_3(void*);\n",
      "  \n",
      "  int main(void)\n",
      "  {\n",
      "      return 0;\n",
      "  }\n",
      "  \n",
      "  error: Microsoft Visual C++ 14.0 or greater is required. Get it with \"Microsoft C++ Build Tools\": https://visualstudio.microsoft.com/visual-cpp-build-tools/\n",
      "  ----------------------------------------\n",
      "  ERROR: Failed building wheel for bottleneck\n",
      "ERROR: Could not build wheels for bottleneck which use PEP 517 and cannot be installed directly\n",
      "WARNING: You are using pip version 20.1.1; however, version 21.2.4 is available.\n",
      "You should consider upgrading via the 'c:\\users\\admin\\appdata\\local\\programs\\python\\python38\\python.exe -m pip install --upgrade pip' command.\n"
     ]
    },
    {
     "name": "stdout",
     "output_type": "stream",
     "text": [
      "\n",
      "  Using cached https://github.com/pandas-profiling/pandas-profiling/archive/master.zip\n",
      "Requirement already satisfied: joblib in c:\\users\\admin\\appdata\\local\\programs\\python\\python38\\lib\\site-packages (from pandas-profiling==3.0.0) (1.0.1)\n",
      "Requirement already satisfied: scipy>=1.4.1 in c:\\users\\admin\\appdata\\local\\programs\\python\\python38\\lib\\site-packages (from pandas-profiling==3.0.0) (1.7.0)\n",
      "Requirement already satisfied: pandas!=1.0.0,!=1.0.1,!=1.0.2,!=1.1.0,>=0.25.3 in c:\\users\\admin\\appdata\\local\\programs\\python\\python38\\lib\\site-packages (from pandas-profiling==3.0.0) (1.3.0)\n",
      "Requirement already satisfied: matplotlib>=3.2.0 in c:\\users\\admin\\appdata\\local\\programs\\python\\python38\\lib\\site-packages (from pandas-profiling==3.0.0) (3.4.2)\n",
      "Collecting pydantic>=1.8.1\n",
      "  Using cached pydantic-1.8.2-cp38-cp38-win_amd64.whl (2.0 MB)\n",
      "Collecting PyYAML>=5.0.0\n",
      "  Using cached PyYAML-5.4.1-cp38-cp38-win_amd64.whl (213 kB)\n",
      "Requirement already satisfied: jinja2>=2.11.1 in c:\\users\\admin\\appdata\\local\\programs\\python\\python38\\lib\\site-packages (from pandas-profiling==3.0.0) (3.0.1)\n",
      "Collecting visions[type_image_path]==0.7.1\n",
      "  Using cached visions-0.7.1-py3-none-any.whl (102 kB)\n",
      "Requirement already satisfied: numpy>=1.16.0 in c:\\users\\admin\\appdata\\local\\programs\\python\\python38\\lib\\site-packages (from pandas-profiling==3.0.0) (1.19.5)\n",
      "Processing c:\\users\\admin\\appdata\\local\\pip\\cache\\wheels\\23\\14\\6e\\4be5bfeeb027f4939a01764b48edd5996acf574b0913fe5243\\htmlmin-0.1.12-py3-none-any.whl\n",
      "Collecting missingno>=0.4.2\n",
      "  Using cached missingno-0.5.0-py3-none-any.whl (8.8 kB)\n",
      "Collecting phik>=0.11.1\n",
      "  Using cached phik-0.12.0-cp38-cp38-win_amd64.whl (659 kB)\n",
      "Collecting tangled-up-in-unicode==0.1.0\n",
      "  Using cached tangled_up_in_unicode-0.1.0-py3-none-any.whl (3.1 MB)\n",
      "Requirement already satisfied: requests>=2.24.0 in c:\\users\\admin\\appdata\\local\\programs\\python\\python38\\lib\\site-packages (from pandas-profiling==3.0.0) (2.26.0)\n",
      "Requirement already satisfied: tqdm>=4.48.2 in c:\\users\\admin\\appdata\\local\\programs\\python\\python38\\lib\\site-packages (from pandas-profiling==3.0.0) (4.61.2)\n",
      "Requirement already satisfied: seaborn>=0.10.1 in c:\\users\\admin\\appdata\\local\\programs\\python\\python38\\lib\\site-packages (from pandas-profiling==3.0.0) (0.11.1)\n",
      "Requirement already satisfied: python-dateutil>=2.7.3 in c:\\users\\admin\\appdata\\local\\programs\\python\\python38\\lib\\site-packages (from pandas!=1.0.0,!=1.0.1,!=1.0.2,!=1.1.0,>=0.25.3->pandas-profiling==3.0.0) (2.8.2)\n",
      "Requirement already satisfied: pytz>=2017.3 in c:\\users\\admin\\appdata\\local\\programs\\python\\python38\\lib\\site-packages (from pandas!=1.0.0,!=1.0.1,!=1.0.2,!=1.1.0,>=0.25.3->pandas-profiling==3.0.0) (2021.1)\n",
      "Requirement already satisfied: pyparsing>=2.2.1 in c:\\users\\admin\\appdata\\local\\programs\\python\\python38\\lib\\site-packages (from matplotlib>=3.2.0->pandas-profiling==3.0.0) (2.4.7)\n",
      "Requirement already satisfied: pillow>=6.2.0 in c:\\users\\admin\\appdata\\local\\programs\\python\\python38\\lib\\site-packages (from matplotlib>=3.2.0->pandas-profiling==3.0.0) (8.3.1)\n",
      "Requirement already satisfied: cycler>=0.10 in c:\\users\\admin\\appdata\\local\\programs\\python\\python38\\lib\\site-packages (from matplotlib>=3.2.0->pandas-profiling==3.0.0) (0.10.0)\n",
      "Requirement already satisfied: kiwisolver>=1.0.1 in c:\\users\\admin\\appdata\\local\\programs\\python\\python38\\lib\\site-packages (from matplotlib>=3.2.0->pandas-profiling==3.0.0) (1.3.1)\n",
      "Requirement already satisfied: typing-extensions>=3.7.4.3 in c:\\users\\admin\\appdata\\local\\programs\\python\\python38\\lib\\site-packages (from pydantic>=1.8.1->pandas-profiling==3.0.0) (3.7.4.3)\n",
      "Requirement already satisfied: MarkupSafe>=2.0 in c:\\users\\admin\\appdata\\local\\programs\\python\\python38\\lib\\site-packages (from jinja2>=2.11.1->pandas-profiling==3.0.0) (2.0.1)\n",
      "Collecting bottleneck\n",
      "  Using cached Bottleneck-1.3.2.tar.gz (88 kB)\n",
      "  Installing build dependencies: started\n",
      "  Installing build dependencies: finished with status 'done'\n",
      "  Getting requirements to build wheel: started\n",
      "  Getting requirements to build wheel: finished with status 'done'\n",
      "    Preparing wheel metadata: started\n",
      "    Preparing wheel metadata: finished with status 'done'\n",
      "Collecting multimethod==1.4\n",
      "  Using cached multimethod-1.4-py2.py3-none-any.whl (7.3 kB)\n",
      "Requirement already satisfied: attrs>=19.3.0 in c:\\users\\admin\\appdata\\local\\programs\\python\\python38\\lib\\site-packages (from visions[type_image_path]==0.7.1->pandas-profiling==3.0.0) (21.2.0)\n",
      "Collecting networkx>=2.4\n",
      "  Using cached networkx-2.6.2-py3-none-any.whl (1.9 MB)\n",
      "Processing c:\\users\\admin\\appdata\\local\\pip\\cache\\wheels\\48\\a1\\7f\\096c1269d6bf78d4768180602579b35a1e8cb1250bb4b40c74\\imagehash-4.2.1-py2.py3-none-any.whl\n",
      "Requirement already satisfied: certifi>=2017.4.17 in c:\\users\\admin\\appdata\\local\\programs\\python\\python38\\lib\\site-packages (from requests>=2.24.0->pandas-profiling==3.0.0) (2021.5.30)\n",
      "Requirement already satisfied: charset-normalizer~=2.0.0; python_version >= \"3\" in c:\\users\\admin\\appdata\\local\\programs\\python\\python38\\lib\\site-packages (from requests>=2.24.0->pandas-profiling==3.0.0) (2.0.2)\n",
      "Requirement already satisfied: idna<4,>=2.5; python_version >= \"3\" in c:\\users\\admin\\appdata\\local\\programs\\python\\python38\\lib\\site-packages (from requests>=2.24.0->pandas-profiling==3.0.0) (3.2)\n",
      "Requirement already satisfied: urllib3<1.27,>=1.21.1 in c:\\users\\admin\\appdata\\local\\programs\\python\\python38\\lib\\site-packages (from requests>=2.24.0->pandas-profiling==3.0.0) (1.26.6)\n",
      "Requirement already satisfied: colorama; platform_system == \"Windows\" in c:\\users\\admin\\appdata\\local\\programs\\python\\python38\\lib\\site-packages (from tqdm>=4.48.2->pandas-profiling==3.0.0) (0.4.4)\n",
      "Requirement already satisfied: six>=1.5 in c:\\users\\admin\\appdata\\local\\programs\\python\\python38\\lib\\site-packages (from python-dateutil>=2.7.3->pandas!=1.0.0,!=1.0.1,!=1.0.2,!=1.1.0,>=0.25.3->pandas-profiling==3.0.0) (1.15.0)\n",
      "Collecting PyWavelets\n",
      "  Using cached PyWavelets-1.1.1-cp38-cp38-win_amd64.whl (4.3 MB)\n",
      "Building wheels for collected packages: pandas-profiling, bottleneck\n",
      "  Building wheel for pandas-profiling (setup.py): started\n",
      "  Building wheel for pandas-profiling (setup.py): finished with status 'done'\n",
      "  Created wheel for pandas-profiling: filename=pandas_profiling-3.0.0-py2.py3-none-any.whl size=248506 sha256=9b7af438349a01cfc5ee8ad5099162cba944033a9be2246ec9c6ade4a1cc550c\n",
      "  Stored in directory: C:\\Users\\Admin\\AppData\\Local\\Temp\\pip-ephem-wheel-cache-yso0tlqe\\wheels\\64\\b6\\85\\dfc808b23666a5910371784e349d28818006ff63ed9cfeca59\n",
      "  Building wheel for bottleneck (PEP 517): started\n",
      "  Building wheel for bottleneck (PEP 517): finished with status 'error'\n",
      "Successfully built pandas-profiling\n",
      "Failed to build bottleneck\n"
     ]
    }
   ],
   "source": [
    "!pip install https://github.com/pandas-profiling/pandas-profiling/archive/master.zip"
   ]
  },
  {
   "cell_type": "code",
   "execution_count": 44,
   "id": "6cb58c81",
   "metadata": {},
   "outputs": [
    {
     "name": "stdout",
     "output_type": "stream",
     "text": [
      "Collecting pandas-profiling\n",
      "  Using cached pandas_profiling-3.0.0-py2.py3-none-any.whl (248 kB)\n",
      "Requirement already satisfied: matplotlib>=3.2.0 in c:\\users\\admin\\appdata\\local\\programs\\python\\python38\\lib\\site-packages (from pandas-profiling) (3.4.2)\n",
      "Requirement already satisfied: numpy>=1.16.0 in c:\\users\\admin\\appdata\\local\\programs\\python\\python38\\lib\\site-packages (from pandas-profiling) (1.19.5)\n",
      "Requirement already satisfied: requests>=2.24.0 in c:\\users\\admin\\appdata\\local\\programs\\python\\python38\\lib\\site-packages (from pandas-profiling) (2.26.0)\n",
      "Requirement already satisfied: joblib in c:\\users\\admin\\appdata\\local\\programs\\python\\python38\\lib\\site-packages (from pandas-profiling) (1.0.1)\n",
      "Requirement already satisfied: jinja2>=2.11.1 in c:\\users\\admin\\appdata\\local\\programs\\python\\python38\\lib\\site-packages (from pandas-profiling) (3.0.1)\n",
      "Requirement already satisfied: tqdm>=4.48.2 in c:\\users\\admin\\appdata\\local\\programs\\python\\python38\\lib\\site-packages (from pandas-profiling) (4.61.2)\n",
      "Requirement already satisfied: scipy>=1.4.1 in c:\\users\\admin\\appdata\\local\\programs\\python\\python38\\lib\\site-packages (from pandas-profiling) (1.7.0)\n",
      "Processing c:\\users\\admin\\appdata\\local\\pip\\cache\\wheels\\23\\14\\6e\\4be5bfeeb027f4939a01764b48edd5996acf574b0913fe5243\\htmlmin-0.1.12-py3-none-any.whl\n",
      "Requirement already satisfied: pandas!=1.0.0,!=1.0.1,!=1.0.2,!=1.1.0,>=0.25.3 in c:\\users\\admin\\appdata\\local\\programs\\python\\python38\\lib\\site-packages (from pandas-profiling) (1.3.0)\n",
      "Collecting pydantic>=1.8.1\n",
      "  Using cached pydantic-1.8.2-cp38-cp38-win_amd64.whl (2.0 MB)\n",
      "Collecting PyYAML>=5.0.0\n",
      "  Using cached PyYAML-5.4.1-cp38-cp38-win_amd64.whl (213 kB)\n",
      "Requirement already satisfied: seaborn>=0.10.1 in c:\\users\\admin\\appdata\\local\\programs\\python\\python38\\lib\\site-packages (from pandas-profiling) (0.11.1)\n",
      "Collecting visions[type_image_path]==0.7.1\n",
      "  Using cached visions-0.7.1-py3-none-any.whl (102 kB)\n",
      "Collecting missingno>=0.4.2\n",
      "  Using cached missingno-0.5.0-py3-none-any.whl (8.8 kB)\n",
      "Collecting phik>=0.11.1\n",
      "  Using cached phik-0.12.0-cp38-cp38-win_amd64.whl (659 kB)\n",
      "Collecting tangled-up-in-unicode==0.1.0\n",
      "  Using cached tangled_up_in_unicode-0.1.0-py3-none-any.whl (3.1 MB)\n",
      "Requirement already satisfied: cycler>=0.10 in c:\\users\\admin\\appdata\\local\\programs\\python\\python38\\lib\\site-packages (from matplotlib>=3.2.0->pandas-profiling) (0.10.0)\n",
      "Requirement already satisfied: python-dateutil>=2.7 in c:\\users\\admin\\appdata\\local\\programs\\python\\python38\\lib\\site-packages (from matplotlib>=3.2.0->pandas-profiling) (2.8.2)\n",
      "Requirement already satisfied: pyparsing>=2.2.1 in c:\\users\\admin\\appdata\\local\\programs\\python\\python38\\lib\\site-packages (from matplotlib>=3.2.0->pandas-profiling) (2.4.7)\n",
      "Requirement already satisfied: pillow>=6.2.0 in c:\\users\\admin\\appdata\\local\\programs\\python\\python38\\lib\\site-packages (from matplotlib>=3.2.0->pandas-profiling) (8.3.1)\n",
      "Requirement already satisfied: kiwisolver>=1.0.1 in c:\\users\\admin\\appdata\\local\\programs\\python\\python38\\lib\\site-packages (from matplotlib>=3.2.0->pandas-profiling) (1.3.1)\n",
      "Requirement already satisfied: charset-normalizer~=2.0.0; python_version >= \"3\" in c:\\users\\admin\\appdata\\local\\programs\\python\\python38\\lib\\site-packages (from requests>=2.24.0->pandas-profiling) (2.0.2)\n",
      "Requirement already satisfied: idna<4,>=2.5; python_version >= \"3\" in c:\\users\\admin\\appdata\\local\\programs\\python\\python38\\lib\\site-packages (from requests>=2.24.0->pandas-profiling) (3.2)\n",
      "Requirement already satisfied: certifi>=2017.4.17 in c:\\users\\admin\\appdata\\local\\programs\\python\\python38\\lib\\site-packages (from requests>=2.24.0->pandas-profiling) (2021.5.30)\n",
      "Requirement already satisfied: urllib3<1.27,>=1.21.1 in c:\\users\\admin\\appdata\\local\\programs\\python\\python38\\lib\\site-packages (from requests>=2.24.0->pandas-profiling) (1.26.6)\n",
      "Requirement already satisfied: MarkupSafe>=2.0 in c:\\users\\admin\\appdata\\local\\programs\\python\\python38\\lib\\site-packages (from jinja2>=2.11.1->pandas-profiling) (2.0.1)\n",
      "Requirement already satisfied: colorama; platform_system == \"Windows\" in c:\\users\\admin\\appdata\\local\\programs\\python\\python38\\lib\\site-packages (from tqdm>=4.48.2->pandas-profiling) (0.4.4)\n"
     ]
    },
    {
     "name": "stderr",
     "output_type": "stream",
     "text": [
      "  ERROR: Command errored out with exit status 1:\n",
      "   command: 'c:\\users\\admin\\appdata\\local\\programs\\python\\python38\\python.exe' 'c:\\users\\admin\\appdata\\local\\programs\\python\\python38\\lib\\site-packages\\pip\\_vendor\\pep517\\_in_process.py' build_wheel 'C:\\Users\\Admin\\AppData\\Local\\Temp\\tmpdu3_e_fl'\n",
      "       cwd: C:\\Users\\Admin\\AppData\\Local\\Temp\\pip-install-21dqegjy\\bottleneck\n",
      "  Complete output (51 lines):\n",
      "  running bdist_wheel\n",
      "  running build\n",
      "  running build_py\n",
      "  creating build\n",
      "  creating build\\lib.win-amd64-3.8\n",
      "  creating build\\lib.win-amd64-3.8\\bottleneck\n",
      "  copying bottleneck\\_pytesttester.py -> build\\lib.win-amd64-3.8\\bottleneck\n",
      "  copying bottleneck\\_version.py -> build\\lib.win-amd64-3.8\\bottleneck\n",
      "  copying bottleneck\\__init__.py -> build\\lib.win-amd64-3.8\\bottleneck\n",
      "  creating build\\lib.win-amd64-3.8\\bottleneck\\benchmark\n",
      "  copying bottleneck\\benchmark\\autotimeit.py -> build\\lib.win-amd64-3.8\\bottleneck\\benchmark\n",
      "  copying bottleneck\\benchmark\\bench.py -> build\\lib.win-amd64-3.8\\bottleneck\\benchmark\n",
      "  copying bottleneck\\benchmark\\bench_detailed.py -> build\\lib.win-amd64-3.8\\bottleneck\\benchmark\n",
      "  copying bottleneck\\benchmark\\__init__.py -> build\\lib.win-amd64-3.8\\bottleneck\\benchmark\n",
      "  creating build\\lib.win-amd64-3.8\\bottleneck\\slow\n",
      "  copying bottleneck\\slow\\move.py -> build\\lib.win-amd64-3.8\\bottleneck\\slow\n",
      "  copying bottleneck\\slow\\nonreduce.py -> build\\lib.win-amd64-3.8\\bottleneck\\slow\n",
      "  copying bottleneck\\slow\\nonreduce_axis.py -> build\\lib.win-amd64-3.8\\bottleneck\\slow\n",
      "  copying bottleneck\\slow\\reduce.py -> build\\lib.win-amd64-3.8\\bottleneck\\slow\n",
      "  copying bottleneck\\slow\\__init__.py -> build\\lib.win-amd64-3.8\\bottleneck\\slow\n",
      "  creating build\\lib.win-amd64-3.8\\bottleneck\\src\n",
      "  copying bottleneck\\src\\bn_config.py -> build\\lib.win-amd64-3.8\\bottleneck\\src\n",
      "  copying bottleneck\\src\\bn_template.py -> build\\lib.win-amd64-3.8\\bottleneck\\src\n",
      "  copying bottleneck\\src\\__init__.py -> build\\lib.win-amd64-3.8\\bottleneck\\src\n",
      "  creating build\\lib.win-amd64-3.8\\bottleneck\\tests\n",
      "  copying bottleneck\\tests\\input_modification_test.py -> build\\lib.win-amd64-3.8\\bottleneck\\tests\n",
      "  copying bottleneck\\tests\\list_input_test.py -> build\\lib.win-amd64-3.8\\bottleneck\\tests\n",
      "  copying bottleneck\\tests\\memory_test.py -> build\\lib.win-amd64-3.8\\bottleneck\\tests\n",
      "  copying bottleneck\\tests\\move_test.py -> build\\lib.win-amd64-3.8\\bottleneck\\tests\n",
      "  copying bottleneck\\tests\\nonreduce_axis_test.py -> build\\lib.win-amd64-3.8\\bottleneck\\tests\n",
      "  copying bottleneck\\tests\\nonreduce_test.py -> build\\lib.win-amd64-3.8\\bottleneck\\tests\n",
      "  copying bottleneck\\tests\\reduce_test.py -> build\\lib.win-amd64-3.8\\bottleneck\\tests\n",
      "  copying bottleneck\\tests\\scalar_input_test.py -> build\\lib.win-amd64-3.8\\bottleneck\\tests\n",
      "  copying bottleneck\\tests\\util.py -> build\\lib.win-amd64-3.8\\bottleneck\\tests\n",
      "  copying bottleneck\\tests\\__init__.py -> build\\lib.win-amd64-3.8\\bottleneck\\tests\n",
      "  UPDATING build\\lib.win-amd64-3.8\\bottleneck/_version.py\n",
      "  set build\\lib.win-amd64-3.8\\bottleneck/_version.py to '1.3.2'\n",
      "  running build_ext\n",
      "  running config\n",
      "  compiling '_configtest.c':\n",
      "  \n",
      "  \n",
      "  \n",
      "  int __attribute__((optimize(\"O3\"))) have_attribute_optimize_opt_3(void*);\n",
      "  \n",
      "  int main(void)\n",
      "  {\n",
      "      return 0;\n",
      "  }\n",
      "  \n",
      "  error: Microsoft Visual C++ 14.0 or greater is required. Get it with \"Microsoft C++ Build Tools\": https://visualstudio.microsoft.com/visual-cpp-build-tools/\n",
      "  ----------------------------------------\n",
      "  ERROR: Failed building wheel for bottleneck\n",
      "ERROR: Could not build wheels for bottleneck which use PEP 517 and cannot be installed directly\n",
      "WARNING: You are using pip version 20.1.1; however, version 21.2.4 is available.\n",
      "You should consider upgrading via the 'c:\\users\\admin\\appdata\\local\\programs\\python\\python38\\python.exe -m pip install --upgrade pip' command.\n"
     ]
    },
    {
     "name": "stdout",
     "output_type": "stream",
     "text": [
      "Requirement already satisfied: pytz>=2017.3 in c:\\users\\admin\\appdata\\local\\programs\\python\\python38\\lib\\site-packages (from pandas!=1.0.0,!=1.0.1,!=1.0.2,!=1.1.0,>=0.25.3->pandas-profiling) (2021.1)\n",
      "Requirement already satisfied: typing-extensions>=3.7.4.3 in c:\\users\\admin\\appdata\\local\\programs\\python\\python38\\lib\\site-packages (from pydantic>=1.8.1->pandas-profiling) (3.7.4.3)\n",
      "Collecting bottleneck\n",
      "  Using cached Bottleneck-1.3.2.tar.gz (88 kB)\n",
      "  Installing build dependencies: started\n",
      "  Installing build dependencies: finished with status 'done'\n",
      "  Getting requirements to build wheel: started\n",
      "  Getting requirements to build wheel: finished with status 'done'\n",
      "    Preparing wheel metadata: started\n",
      "    Preparing wheel metadata: finished with status 'done'\n",
      "Requirement already satisfied: attrs>=19.3.0 in c:\\users\\admin\\appdata\\local\\programs\\python\\python38\\lib\\site-packages (from visions[type_image_path]==0.7.1->pandas-profiling) (21.2.0)\n",
      "Collecting multimethod==1.4\n",
      "  Using cached multimethod-1.4-py2.py3-none-any.whl (7.3 kB)\n",
      "Collecting networkx>=2.4\n",
      "  Using cached networkx-2.6.2-py3-none-any.whl (1.9 MB)\n",
      "Processing c:\\users\\admin\\appdata\\local\\pip\\cache\\wheels\\48\\a1\\7f\\096c1269d6bf78d4768180602579b35a1e8cb1250bb4b40c74\\imagehash-4.2.1-py2.py3-none-any.whl\n",
      "Requirement already satisfied: six in c:\\users\\admin\\appdata\\local\\programs\\python\\python38\\lib\\site-packages (from cycler>=0.10->matplotlib>=3.2.0->pandas-profiling) (1.15.0)\n",
      "Collecting PyWavelets\n",
      "  Using cached PyWavelets-1.1.1-cp38-cp38-win_amd64.whl (4.3 MB)\n",
      "Building wheels for collected packages: bottleneck\n",
      "  Building wheel for bottleneck (PEP 517): started\n",
      "  Building wheel for bottleneck (PEP 517): finished with status 'error'\n",
      "Failed to build bottleneck\n"
     ]
    }
   ],
   "source": [
    "# installing required package\n",
    "!pip install pandas-profiling\n"
   ]
  },
  {
   "cell_type": "code",
   "execution_count": 5,
   "id": "6313c5b4",
   "metadata": {},
   "outputs": [
    {
     "data": {
      "text/plain": [
       "Partner                                           7\n",
       "Head Of Information Technology                    7\n",
       "Manager                                           4\n",
       "Head Of Procurement                               4\n",
       "Director                                          4\n",
       "                                                 ..\n",
       "Professor of Political Science                    1\n",
       "Head Of Department(English )                      1\n",
       "VP                                                1\n",
       "Group IT Manager                                  1\n",
       "VP- Head Of Enterprise Infrastructure Services    1\n",
       "Name: Designation, Length: 160, dtype: int64"
      ]
     },
     "execution_count": 5,
     "metadata": {},
     "output_type": "execute_result"
    }
   ],
   "source": [
    "df['Designation'].value_counts()"
   ]
  },
  {
   "cell_type": "code",
   "execution_count": 6,
   "id": "4e295548",
   "metadata": {},
   "outputs": [
    {
     "data": {
      "image/png": "[encoded data removed]",
      "text/plain": [
       "<Figure size 432x288 with 1 Axes>"
      ]
     },
     "metadata": {
      "needs_background": "light"
     },
     "output_type": "display_data"
    }
   ],
   "source": [
    "df['Seniority (Head or Manager)'].isnull().sum()\n",
    "fig=df['Seniority (Head or Manager)'].value_counts().plot.bar().get_figure()\n",
    "fig.tight_layout()"
   ]
  },
  {
   "cell_type": "code",
   "execution_count": 7,
   "id": "117a63db",
   "metadata": {},
   "outputs": [
    {
     "data": {
      "image/png": "[encoded data removed]",
      "text/plain": [
       "<Figure size 432x288 with 1 Axes>"
      ]
     },
     "metadata": {
      "needs_background": "light"
     },
     "output_type": "display_data"
    }
   ],
   "source": [
    "df['Function (IT, Procurement/Purchase, Others)'].isnull().sum()\n",
    "fig=df['Function (IT, Procurement/Purchase, Others)'].value_counts().plot.bar().get_figure()\n",
    "fig.tight_layout()"
   ]
  },
  {
   "cell_type": "code",
   "execution_count": 8,
   "id": "7a75fe43",
   "metadata": {},
   "outputs": [
    {
     "data": {
      "image/png": "[encoded data removed]",
      "text/plain": [
       "<Figure size 432x288 with 1 Axes>"
      ]
     },
     "metadata": {
      "needs_background": "light"
     },
     "output_type": "display_data"
    }
   ],
   "source": [
    "fig=df['How Soon Would You Like to Buy (within 1month, Within 1 Quarter, After 1 Quarter)'].value_counts().plot.bar().get_figure()\n",
    "fig.tight_layout()"
   ]
  },
  {
   "cell_type": "code",
   "execution_count": 9,
   "id": "6e2424ef",
   "metadata": {},
   "outputs": [
    {
     "data": {
      "image/png": "[encoded data removed]",
      "text/plain": [
       "<Figure size 432x288 with 1 Axes>"
      ]
     },
     "metadata": {
      "needs_background": "light"
     },
     "output_type": "display_data"
    }
   ],
   "source": [
    "fig=df['Total Units'].value_counts().plot.bar().get_figure()\n",
    "fig.tight_layout()"
   ]
  },
  {
   "cell_type": "code",
   "execution_count": 10,
   "id": "d857af10",
   "metadata": {},
   "outputs": [
    {
     "data": {
      "image/png": "[encoded data removed]",
      "text/plain": [
       "<Figure size 432x288 with 1 Axes>"
      ]
     },
     "metadata": {
      "needs_background": "light"
     },
     "output_type": "display_data"
    }
   ],
   "source": [
    "fig=df['Org Size (Employees in Your Organization)'].value_counts().plot.bar().get_figure()\n",
    "fig.tight_layout()"
   ]
  },
  {
   "cell_type": "code",
   "execution_count": 15,
   "id": "8bb20bc1",
   "metadata": {},
   "outputs": [
    {
     "data": {
      "image/png": "[encoded data removed]",
      "text/plain": [
       "<Figure size 180x180 with 2 Axes>"
      ]
     },
     "metadata": {
      "needs_background": "light"
     },
     "output_type": "display_data"
    }
   ],
   "source": [
    "from sklearn.preprocessing import LabelEncoder\n",
    "le = LabelEncoder()\n",
    "df['Lead Status (Y)'] = le.fit_transform(df['Lead Status (Y)'])\n",
    "\n",
    "# Creating a pairplot of dataset\n",
    "sns.pairplot(df)\n",
    "plt.savefig('multi1.png')\n",
    "plt.show()"
   ]
  },
  {
   "cell_type": "code",
   "execution_count": null,
   "id": "87da0fd7",
   "metadata": {},
   "outputs": [],
   "source": []
  },
  {
   "cell_type": "code",
   "execution_count": 16,
   "id": "2d42a840",
   "metadata": {},
   "outputs": [
    {
     "data": {
      "image/png": "[encoded data removed]",
      "text/plain": [
       "<Figure size 504x360 with 2 Axes>"
      ]
     },
     "metadata": {},
     "output_type": "display_data"
    }
   ],
   "source": [
    "corr = df.corr()\n",
    "mask = np.zeros_like(corr)\n",
    "mask[np.triu_indices_from(mask)] = True\n",
    "with sns.axes_style(\"white\"):\n",
    "    f, ax = plt.subplots(figsize=(7, 5))\n",
    "    ax = sns.heatmap(corr, mask=mask, vmax=.3, square=True,\n",
    "                     annot=True, cmap='RdYlGn')\n",
    "plt.savefig('multi2.png')\n",
    "plt.show()"
   ]
  },
  {
   "cell_type": "markdown",
   "id": "94c6cf9c",
   "metadata": {},
   "source": [
    "# Step 3: Data Preprocessing\n",
    "3.1: Fixing '-' values in the dataset\n"
   ]
  },
  {
   "cell_type": "code",
   "execution_count": 51,
   "id": "974bbba3",
   "metadata": {
    "scrolled": true
   },
   "outputs": [
    {
     "data": {
      "text/plain": [
       "Full Name                                                                              0.0 %\n",
       "Designation                                                                           0.51 %\n",
       "Seniority (Head or Manager)                                                          13.13 %\n",
       "Function (IT, Procurement/Purchase, Others)                                           1.01 %\n",
       "How Soon Would You Like to Buy (within 1month, Within 1 Quarter, After 1 Quarter)     0.51 %\n",
       "Total Units                                                                           1.01 %\n",
       "Org Size (Employees in Your Organization)                                             0.51 %\n",
       "Lead Status (Y)                                                                        0.0 %\n",
       "dtype: object"
      ]
     },
     "execution_count": 51,
     "metadata": {},
     "output_type": "execute_result"
    }
   ],
   "source": [
    "\n",
    "df = df.replace('-', np.nan)\n",
    "\n",
    "# Checking null values\n",
    "round((df.isnull().sum() / df.shape[0]) * 100, 2).astype(str) + ' %'"
   ]
  },
  {
   "cell_type": "code",
   "execution_count": 53,
   "id": "55f78c0c",
   "metadata": {},
   "outputs": [],
   "source": [
    "columns_with_nan = ['Designation', 'Seniority (Head or Manager)', 'Function (IT, Procurement/Purchase, Others)','Total Units','Org Size (Employees in Your Organization)']\n",
    "\n",
    "for col in columns_with_nan:\n",
    "    df[col].fillna(df[col].mode()[0], inplace=True)"
   ]
  },
  {
   "cell_type": "markdown",
   "id": "0c4a1bb6",
   "metadata": {},
   "source": [
    "# 3.2: Label Encoding\n"
   ]
  },
  {
   "cell_type": "code",
   "execution_count": 58,
   "id": "331e7bac",
   "metadata": {},
   "outputs": [],
   "source": [
    "\n",
    "from sklearn.preprocessing import LabelEncoder\n",
    "\n",
    "for col in df.columns:\n",
    "    if df[col].dtypes == 'object':\n",
    "        encoder = LabelEncoder()\n",
    "        df[col] = encoder.fit_transform(df[col])"
   ]
  },
  {
   "cell_type": "markdown",
   "id": "ff8f18a4",
   "metadata": {},
   "source": [
    "# 3.3: Feature Selection\n"
   ]
  },
  {
   "cell_type": "code",
   "execution_count": 60,
   "id": "111ec6ee",
   "metadata": {},
   "outputs": [],
   "source": [
    "\n",
    "X = df.drop('Lead Status (Y)', axis=1)\n",
    "Y = df['Lead Status (Y)']"
   ]
  },
  {
   "cell_type": "markdown",
   "id": "09a219f8",
   "metadata": {},
   "source": [
    "# which variables have most impact on MQLs"
   ]
  },
  {
   "cell_type": "code",
   "execution_count": 61,
   "id": "672e7b9f",
   "metadata": {},
   "outputs": [],
   "source": [
    "from sklearn.ensemble import ExtraTreesClassifier\n",
    "selector = ExtraTreesClassifier(random_state=42)"
   ]
  },
  {
   "cell_type": "code",
   "execution_count": 62,
   "id": "bd6847a7",
   "metadata": {},
   "outputs": [
    {
     "data": {
      "text/plain": [
       "ExtraTreesClassifier(random_state=42)"
      ]
     },
     "execution_count": 62,
     "metadata": {},
     "output_type": "execute_result"
    }
   ],
   "source": [
    "selector.fit(X, Y)"
   ]
  },
  {
   "cell_type": "code",
   "execution_count": 63,
   "id": "17f6b51f",
   "metadata": {},
   "outputs": [],
   "source": [
    "feature_imp = selector.feature_importances_"
   ]
  },
  {
   "cell_type": "code",
   "execution_count": 64,
   "id": "d84747cd",
   "metadata": {},
   "outputs": [
    {
     "name": "stdout",
     "output_type": "stream",
     "text": [
      "0 22.83\n",
      "1 21.27\n",
      "2 5.43\n",
      "3 9.8\n",
      "4 4.25\n",
      "5 17.7\n",
      "6 18.72\n"
     ]
    }
   ],
   "source": [
    "\n",
    "for index, val in enumerate(feature_imp):\n",
    "    print(index, round((val * 100), 2))"
   ]
  },
  {
   "cell_type": "code",
   "execution_count": 65,
   "id": "809f0dd1",
   "metadata": {},
   "outputs": [
    {
     "name": "stdout",
     "output_type": "stream",
     "text": [
      "<class 'pandas.core.frame.DataFrame'>\n",
      "RangeIndex: 198 entries, 0 to 197\n",
      "Data columns (total 7 columns):\n",
      " #   Column                                                                             Non-Null Count  Dtype\n",
      "---  ------                                                                             --------------  -----\n",
      " 0   Full Name                                                                          198 non-null    int32\n",
      " 1   Designation                                                                        198 non-null    int32\n",
      " 2   Seniority (Head or Manager)                                                        198 non-null    int32\n",
      " 3   Function (IT, Procurement/Purchase, Others)                                        198 non-null    int32\n",
      " 4   How Soon Would You Like to Buy (within 1month, Within 1 Quarter, After 1 Quarter)  198 non-null    int32\n",
      " 5   Total Units                                                                        198 non-null    int32\n",
      " 6   Org Size (Employees in Your Organization)                                          198 non-null    int32\n",
      "dtypes: int32(7)\n",
      "memory usage: 5.5 KB\n"
     ]
    }
   ],
   "source": [
    "\n",
    "X.info()"
   ]
  },
  {
   "cell_type": "code",
   "execution_count": 67,
   "id": "1a535fbb",
   "metadata": {},
   "outputs": [],
   "source": [
    "X = X.drop(['How Soon Would You Like to Buy (within 1month, Within 1 Quarter, After 1 Quarter)', 'Seniority (Head or Manager)'], axis=1)"
   ]
  },
  {
   "cell_type": "markdown",
   "id": "4f09a426",
   "metadata": {},
   "source": [
    "# 3.4: Feature Scaling\n",
    "\n"
   ]
  },
  {
   "cell_type": "code",
   "execution_count": 68,
   "id": "0877d24f",
   "metadata": {},
   "outputs": [],
   "source": [
    "from sklearn.preprocessing import StandardScaler\n",
    "\n",
    "for col in X.columns:\n",
    "    scaler = StandardScaler()\n",
    "    X[col] = scaler.fit_transform(X[col].values.reshape(-1, 1))"
   ]
  },
  {
   "cell_type": "markdown",
   "id": "79b7b639",
   "metadata": {},
   "source": [
    "# 3.6: Creating a train test split\n"
   ]
  },
  {
   "cell_type": "code",
   "execution_count": 70,
   "id": "1ee1f4aa",
   "metadata": {},
   "outputs": [
    {
     "name": "stdout",
     "output_type": "stream",
     "text": [
      "X_train shape: (158, 5)\n",
      "X_test shape: (40, 5)\n",
      "Y_train shape: (158,)\n",
      "Y_test shape: (40,)\n"
     ]
    }
   ],
   "source": [
    "\n",
    "from sklearn.model_selection import train_test_split\n",
    "X_train, X_test, Y_train, Y_test = train_test_split(\n",
    "    X, Y, test_size=0.2, random_state=42)\n",
    "\n",
    "print(\"X_train shape:\", X_train.shape)\n",
    "print(\"X_test shape:\", X_test.shape)\n",
    "print(\"Y_train shape:\", Y_train.shape)\n",
    "print(\"Y_test shape:\", Y_test.shape)"
   ]
  },
  {
   "cell_type": "markdown",
   "id": "97f511f0",
   "metadata": {},
   "source": [
    "# Step 4: Data Modelling\n",
    "4.1: Logistic Regression\n"
   ]
  },
  {
   "cell_type": "markdown",
   "id": "9be9bf9d",
   "metadata": {},
   "source": [
    "# Create a model wherein we can know which combination of targeting can yield maximum volume of MQLs"
   ]
  },
  {
   "cell_type": "code",
   "execution_count": 71,
   "id": "d678b40b",
   "metadata": {},
   "outputs": [],
   "source": [
    "\n",
    "from sklearn.linear_model import LogisticRegression\n",
    "log_reg = LogisticRegression(random_state=42)\n",
    "\n",
    "log_reg.fit(X_train, Y_train)\n",
    "\n",
    "LogisticRegression(random_state=42)\n",
    "\n",
    "Y_pred_log_reg = log_reg.predict(X_test)"
   ]
  },
  {
   "cell_type": "code",
   "execution_count": 73,
   "id": "bb237992",
   "metadata": {},
   "outputs": [
    {
     "name": "stdout",
     "output_type": "stream",
     "text": [
      "Logistic Regression:\n",
      "Accuracy score: 65.0\n"
     ]
    }
   ],
   "source": [
    "\n",
    "from sklearn.metrics import accuracy_score\n",
    "from sklearn.metrics import f1_score\n",
    "\n",
    "print('Logistic Regression:')\n",
    "print('Accuracy score:', round(accuracy_score(Y_test, Y_pred_log_reg) * 100, 2))\n"
   ]
  },
  {
   "cell_type": "markdown",
   "id": "93f52e11",
   "metadata": {},
   "source": [
    "# 4.5: Decision Tree Classifier\n",
    "\n"
   ]
  },
  {
   "cell_type": "code",
   "execution_count": 74,
   "id": "2ad51961",
   "metadata": {},
   "outputs": [],
   "source": [
    "from sklearn.tree import DecisionTreeClassifier\n",
    "dec_tree = DecisionTreeClassifier(random_state=42)\n",
    "\n",
    "dec_tree.fit(X_train, Y_train)\n",
    "\n",
    "DecisionTreeClassifier(random_state=42)\n",
    "\n",
    "Y_pred_dec_tree = dec_tree.predict(X_test)"
   ]
  },
  {
   "cell_type": "code",
   "execution_count": 76,
   "id": "9af9200e",
   "metadata": {},
   "outputs": [
    {
     "name": "stdout",
     "output_type": "stream",
     "text": [
      "Decision Tree Classifier:\n",
      "Accuracy score: 50.0\n"
     ]
    }
   ],
   "source": [
    "\n",
    "print('Decision Tree Classifier:')\n",
    "print('Accuracy score:', round(accuracy_score(Y_test, Y_pred_dec_tree) * 100, 2))\n"
   ]
  },
  {
   "cell_type": "markdown",
   "id": "2a3e2d46",
   "metadata": {},
   "source": [
    "# Step 6: Hyperparameter Tuning\n"
   ]
  },
  {
   "cell_type": "code",
   "execution_count": 77,
   "id": "71d861cb",
   "metadata": {},
   "outputs": [],
   "source": [
    "\n",
    "from sklearn.model_selection import RandomizedSearchCV"
   ]
  },
  {
   "cell_type": "code",
   "execution_count": 78,
   "id": "9c8a659d",
   "metadata": {},
   "outputs": [],
   "source": [
    "n_estimators = [int(x) for x in np.linspace(start=40, stop=150, num=15)]\n",
    "max_depth = [int(x) for x in np.linspace(40, 150, num=15)]"
   ]
  },
  {
   "cell_type": "code",
   "execution_count": 79,
   "id": "cfe618e7",
   "metadata": {},
   "outputs": [],
   "source": [
    "param_dist = {\n",
    "    'n_estimators': n_estimators,\n",
    "    'max_depth': max_depth,\n",
    "}"
   ]
  },
  {
   "cell_type": "code",
   "execution_count": 81,
   "id": "e4b9d224",
   "metadata": {},
   "outputs": [],
   "source": [
    "\n",
    "rf_tuned = LogisticRegression(random_state=42)"
   ]
  },
  {
   "cell_type": "code",
   "execution_count": 82,
   "id": "5b65b752",
   "metadata": {},
   "outputs": [],
   "source": [
    "rf_cv = RandomizedSearchCV(\n",
    "    estimator=rf_tuned, param_distributions=param_dist, cv=5, random_state=42)"
   ]
  },
  {
   "cell_type": "code",
   "execution_count": null,
   "id": "9db05897",
   "metadata": {},
   "outputs": [],
   "source": []
  },
  {
   "cell_type": "code",
   "execution_count": 84,
   "id": "8272de7f",
   "metadata": {},
   "outputs": [
    {
     "name": "stdout",
     "output_type": "stream",
     "text": [
      "Best: 0.950667 using {'C': 0.01, 'penalty': 'l2', 'solver': 'newton-cg'}\n",
      "0.945333 (0.018025) with: {'C': 100, 'penalty': 'l2', 'solver': 'newton-cg'}\n",
      "0.943333 (0.018135) with: {'C': 100, 'penalty': 'l2', 'solver': 'lbfgs'}\n",
      "0.946000 (0.018903) with: {'C': 100, 'penalty': 'l2', 'solver': 'liblinear'}\n",
      "0.945333 (0.017651) with: {'C': 10, 'penalty': 'l2', 'solver': 'newton-cg'}\n",
      "0.945000 (0.018028) with: {'C': 10, 'penalty': 'l2', 'solver': 'lbfgs'}\n",
      "0.946000 (0.018903) with: {'C': 10, 'penalty': 'l2', 'solver': 'liblinear'}\n",
      "0.945000 (0.017654) with: {'C': 1.0, 'penalty': 'l2', 'solver': 'newton-cg'}\n",
      "0.945667 (0.017829) with: {'C': 1.0, 'penalty': 'l2', 'solver': 'lbfgs'}\n",
      "0.946667 (0.018679) with: {'C': 1.0, 'penalty': 'l2', 'solver': 'liblinear'}\n",
      "0.947667 (0.017452) with: {'C': 0.1, 'penalty': 'l2', 'solver': 'newton-cg'}\n",
      "0.948667 (0.016275) with: {'C': 0.1, 'penalty': 'l2', 'solver': 'lbfgs'}\n",
      "0.948000 (0.017776) with: {'C': 0.1, 'penalty': 'l2', 'solver': 'liblinear'}\n",
      "0.950667 (0.018785) with: {'C': 0.01, 'penalty': 'l2', 'solver': 'newton-cg'}\n",
      "0.950667 (0.018785) with: {'C': 0.01, 'penalty': 'l2', 'solver': 'lbfgs'}\n",
      "0.950333 (0.019914) with: {'C': 0.01, 'penalty': 'l2', 'solver': 'liblinear'}\n"
     ]
    }
   ],
   "source": [
    "\n",
    "# grid searching key hyperparametres for logistic regression\n",
    "from sklearn.datasets import make_blobs\n",
    "from sklearn.model_selection import RepeatedStratifiedKFold\n",
    "from sklearn.model_selection import GridSearchCV\n",
    "from sklearn.linear_model import LogisticRegression\n",
    "# define dataset\n",
    "X, Y = make_blobs(n_samples=1000, centers=2, n_features=100, cluster_std=20)\n",
    "# define models and parameters\n",
    "model = LogisticRegression()\n",
    "solvers = ['newton-cg', 'lbfgs', 'liblinear']\n",
    "penalty = ['l2']\n",
    "c_values = [100, 10, 1.0, 0.1, 0.01]\n",
    "# define grid search\n",
    "grid = dict(solver=solvers,penalty=penalty,C=c_values)\n",
    "cv = RepeatedStratifiedKFold(n_splits=10, n_repeats=3, random_state=1)\n",
    "grid_search = GridSearchCV(estimator=model, param_grid=grid, n_jobs=-1, cv=cv, scoring='accuracy',error_score=0)\n",
    "grid_result = grid_search.fit(X, Y)\n",
    "# summarize results\n",
    "print(\"Best: %f using %s\" % (grid_result.best_score_, grid_result.best_params_))\n",
    "means = grid_result.cv_results_['mean_test_score']\n",
    "stds = grid_result.cv_results_['std_test_score']\n",
    "params = grid_result.cv_results_['params']\n",
    "for mean, stdev, param in zip(means, stds, params):\n",
    "    print(\"%f (%f) with: %r\" % (mean, stdev, param))"
   ]
  },
  {
   "cell_type": "markdown",
   "id": "47ad3565",
   "metadata": {},
   "source": [
    "# Would you use Logit or Linear regression and Why?"
   ]
  },
  {
   "cell_type": "markdown",
   "id": "1ddfa797",
   "metadata": {},
   "source": [
    "Yes, I used Both modes but the best accuracy in the logistic regression model, because in data target variable is categorical.The result is the impact of each variable on the odds ratio of the observed event of interest."
   ]
  },
  {
   "cell_type": "markdown",
   "id": "046f3b1e",
   "metadata": {},
   "source": []
  },
  {
   "cell_type": "code",
   "execution_count": null,
   "id": "2c7f9040",
   "metadata": {},
   "outputs": [],
   "source": []
  },
  {
   "cell_type": "code",
   "execution_count": null,
   "id": "feb36cc6",
   "metadata": {},
   "outputs": [],
   "source": []
  }
 ],
 "metadata": {
  "kernelspec": {
   "display_name": "Python 3 (ipykernel)",
   "language": "python",
   "name": "python3"
  },
  "language_info": {
   "codemirror_mode": {
    "name": "ipython",
    "version": 3
   },
   "file_extension": ".py",
   "mimetype": "text/x-python",
   "name": "python",
   "nbconvert_exporter": "python",
   "pygments_lexer": "ipython3",
   "version": "3.8.4"
  }
 },
 "nbformat": 4,
 "nbformat_minor": 5
}
